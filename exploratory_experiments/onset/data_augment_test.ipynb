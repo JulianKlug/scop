{
 "cells": [
  {
   "cell_type": "code",
   "execution_count": null,
   "metadata": {
    "collapsed": true
   },
   "outputs": [],
   "source": [
    "import numpy as np\n",
    "import matplotlib.pyplot as plt\n",
    "import tensorflow as tf\n",
    "from scope.datasets.gsd_outcome_dataset import get_gsd_outcome_dataset\n"
   ]
  },
  {
   "cell_type": "code",
   "execution_count": null,
   "outputs": [],
   "source": [
    "def plot_slices(num_rows, num_columns, width, height, data):\n",
    "    \"\"\"Plot a montage of 20 CT slices\"\"\"\n",
    "    data = np.rot90(np.array(data))\n",
    "    data = np.transpose(data)\n",
    "    data = np.reshape(data, (num_rows, num_columns, width, height))\n",
    "    rows_data, columns_data = data.shape[0], data.shape[1]\n",
    "    heights = [slc[0].shape[0] for slc in data]\n",
    "    widths = [slc.shape[1] for slc in data[0]]\n",
    "    fig_width = 12.0\n",
    "    fig_height = fig_width * sum(heights) / sum(widths)\n",
    "    f, axarr = plt.subplots(\n",
    "        rows_data,\n",
    "        columns_data,\n",
    "        figsize=(fig_width, fig_height),\n",
    "        gridspec_kw={\"height_ratios\": heights},\n",
    "    )\n",
    "    for i in range(rows_data):\n",
    "        for j in range(columns_data):\n",
    "            axarr[i, j].imshow(data[i][j], cmap=\"gray\")\n",
    "            axarr[i, j].axis(\"off\")\n",
    "    plt.subplots_adjust(wspace=0, hspace=0, left=0, right=1, bottom=0, top=1)\n",
    "    plt.show()"
   ],
   "metadata": {
    "collapsed": false,
    "pycharm": {
     "name": "#%%\n"
    }
   }
  },
  {
   "cell_type": "code",
   "execution_count": null,
   "outputs": [],
   "source": [
    "\n",
    "label_file_path = '/Users/jk1/OneDrive - unige.ch/stroke_research/geneva_stroke_dataset/clinical_data/multi_annual_joined_data/scope_joined_variables/onset_prediction/with_imaging_curated_completed_joined_anon_outcome_df.xlsx'\n",
    "imaging_dataset_path = '/Users/jk1/temp/onset_scope_tests/train_noGT_pmaps_15-19_dataset_with_onset_to_imaging.npz'\n",
    "# main_log_dir = '/Users/jk1/temp/keras_scope_test'\n",
    "channels = [0, 1, 2, 3]\n",
    "outcome = \"onset_to_imaging\"\n",
    "id_variable = \"pid\"\n",
    "model_input_shape = (46, 46, 46)\n",
    "split_ratio = 0.3\n",
    "batch_size = 2\n",
    "train_dataset, validation_dataset, id_allocation = get_gsd_outcome_dataset(label_file_path, imaging_dataset_path,\n",
    "                                                            outcome, channels,\n",
    "                                                            model_input_shape, split_ratio, batch_size, id_variable,\n",
    "                                                            continuous_outcome=1)"
   ],
   "metadata": {
    "collapsed": false,
    "pycharm": {
     "name": "#%%\n"
    }
   }
  },
  {
   "cell_type": "code",
   "execution_count": null,
   "outputs": [],
   "source": [
    "data = train_dataset.take(1)\n",
    "image_tensors, labels = list(data)[0]\n",
    "tensor = image_tensors[0]\n",
    "images = image_tensors.numpy()\n",
    "image = images[0]\n",
    "# Visualize montage of slices.\n",
    "# 4 rows and 10 columns for 100 slices of the CT scan.\n",
    "plot_slices(4, 10, 46, 46, image[:, :, :40, 3])\n"
   ],
   "metadata": {
    "collapsed": false,
    "pycharm": {
     "name": "#%%\n"
    }
   }
  },
  {
   "cell_type": "code",
   "execution_count": null,
   "outputs": [],
   "source": [
    "from scope.utils.augmentations import RandAugment3D\n",
    "\n",
    "transformer = RandAugment3D(2)\n",
    "trans_img = transformer(tensor)\n",
    "\n",
    "plot_slices(4, 10, 46, 46, trans_img[:, :, :40, 2])\n"
   ],
   "metadata": {
    "collapsed": false,
    "pycharm": {
     "name": "#%%\n"
    }
   }
  },
  {
   "cell_type": "code",
   "execution_count": null,
   "outputs": [],
   "source": [
    "vals = image.mean(axis=0).flatten()\n",
    "trans_vals = trans_img.numpy().mean(axis=0).flatten()\n",
    "# plot histogram with 255 bins\n",
    "b, bins, patches = plt.hist(vals)\n",
    "b, bins, patches = plt.hist(trans_vals)"
   ],
   "metadata": {
    "collapsed": false,
    "pycharm": {
     "name": "#%%\n"
    }
   }
  },
  {
   "cell_type": "code",
   "execution_count": null,
   "outputs": [],
   "source": [
    "from monai.transforms import RandAffine\n",
    "from scope.utils.augmentations import to_channels_first, to_channels_last, shear, adjustContrast, equalize, scale\n",
    "\n",
    "\n",
    "def rotate(volume):\n",
    "    transformer = RandAffine(prob=1, rotate_range=((30, -30), (10, -10), (10, -10)), padding_mode='border')\n",
    "    return transformer(volume).numpy()\n",
    "\n",
    "\n",
    "trans_img = scale(to_channels_first(tensor).numpy())\n",
    "# trans_img = rotate(to_channels_first(tensor).numpy())\n",
    "trans_img = rotate(trans_img)\n",
    "plot_slices(4, 10, 46, 46, trans_img[2,:, :, :40])\n",
    "\n",
    "\n"
   ],
   "metadata": {
    "collapsed": false,
    "pycharm": {
     "name": "#%%\n"
    }
   }
  },
  {
   "cell_type": "code",
   "execution_count": null,
   "outputs": [],
   "source": [
    "\n",
    "vals = image.mean(axis=0).flatten()\n",
    "trans_vals = trans_img.mean(axis=0).flatten()\n",
    "# plot histogram with 255 bins\n",
    "b, bins, patches = plt.hist(vals)\n",
    "b, bins, patches = plt.hist(trans_vals)\n",
    "\n"
   ],
   "metadata": {
    "collapsed": false,
    "pycharm": {
     "name": "#%%\n"
    }
   }
  },
  {
   "cell_type": "code",
   "execution_count": null,
   "outputs": [],
   "source": [],
   "metadata": {
    "collapsed": false,
    "pycharm": {
     "name": "#%%\n"
    }
   }
  }
 ],
 "metadata": {
  "kernelspec": {
   "display_name": "Python 3",
   "language": "python",
   "name": "python3"
  },
  "language_info": {
   "codemirror_mode": {
    "name": "ipython",
    "version": 2
   },
   "file_extension": ".py",
   "mimetype": "text/x-python",
   "name": "python",
   "nbconvert_exporter": "python",
   "pygments_lexer": "ipython2",
   "version": "2.7.6"
  }
 },
 "nbformat": 4,
 "nbformat_minor": 0
}