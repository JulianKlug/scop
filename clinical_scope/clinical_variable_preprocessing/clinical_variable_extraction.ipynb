{
 "cells": [
  {
   "cell_type": "code",
   "execution_count": 1,
   "metadata": {
    "collapsed": true
   },
   "outputs": [],
   "source": [
    "import pandas as pd\n",
    "import seaborn as sns\n",
    "import os\n",
    "import numpy as np\n",
    "from gsd_pipeline.dataset_tools.filter_for_clinical_param import filter_for_clinical_param\n",
    "from gsd_pipeline.clinical_data.from_2018.extract_clinical_outcomes import extract_clinical_outcomes as extract_2018\n",
    "from gsd_pipeline.clinical_data.years_2015_2016_2017.extract_clinical_outcomes import extract_clinical_outcomes as extract_2015\n",
    "from gsd_pipeline.clinical_data.join_multi_annual_outcome_df import join_multi_annual_outcome_df"
   ]
  },
  {
   "cell_type": "code",
   "execution_count": 2,
   "outputs": [],
   "source": [
    "variable_names = '/Users/jk1/OneDrive - unige.ch/stroke_research/scope/variables/scope_variable_selection.xlsx'\n",
    "patient_ids_2018 = '/Users/jk1/OneDrive - unige.ch/stroke_research/geneva_stroke_dataset/imaging_keys/2018/patient_ids_keys_2018.xlsx'\n",
    "clinical_data_2018 = '/Users/jk1/temp/scope_clinical_data_extraction/SSR_cases_of_2018_(Adm,_Hosp_and_FU).xlsx'\n",
    "\n",
    "patient_ids_2015_2016_2017 = '/Users/jk1/OneDrive - unige.ch/stroke_research/geneva_stroke_dataset/imaging_keys/2015-2017/anonymisation_key_pCT_2016_2017.xlsx'\n",
    "clinical_data_2015_2016_2017 = '/Users/jk1/temp/scope_clinical_data_extraction/190419_Données 2015-16-17.xlsx'\n",
    "\n",
    "variable_names = pd.read_excel(variable_names, header=None)"
   ],
   "metadata": {
    "collapsed": false,
    "pycharm": {
     "name": "#%%\n"
    }
   }
  },
  {
   "cell_type": "markdown",
   "source": [
    "Extracting data for 2018"
   ],
   "metadata": {
    "collapsed": false,
    "pycharm": {
     "name": "#%% md\n"
    }
   },
   "outputs": [
    {
     "ename": "SyntaxError",
     "evalue": "invalid syntax (<ipython-input-9-1dcb0b954c53>, line 1)",
     "output_type": "error",
     "traceback": [
      "\u001B[0;36m  File \u001B[0;32m\"<ipython-input-9-1dcb0b954c53>\"\u001B[0;36m, line \u001B[0;32m1\u001B[0m\n\u001B[0;31m    Extracting data for 2018\u001B[0m\n\u001B[0m               ^\u001B[0m\n\u001B[0;31mSyntaxError\u001B[0m\u001B[0;31m:\u001B[0m invalid syntax\n"
     ]
    }
   ],
   "execution_count": 9
  },
  {
   "cell_type": "code",
   "execution_count": 21,
   "outputs": [
    {
     "name": "stdout",
     "output_type": "stream",
     "text": [
      "WARNING: Remove header and blank lines from patient info file first.\n",
      "Output may contain duplicates, please remove them manually as not all duplicate entries are the same.\n"
     ]
    }
   ],
   "source": [
    "variable_names_2018 = variable_names.dropna(axis=1).loc[0,1:].values.tolist()\n",
    "\n",
    "extract_2018(\n",
    "    patient_ids_2018,\n",
    "    clinical_data_2018, id_sheet='Sheet1',\n",
    "    info_sheet='Export cases registered in.',\n",
    "    anonymise=False,\n",
    "    selected_outcomes = variable_names_2018\n",
    ")"
   ],
   "metadata": {
    "collapsed": false,
    "pycharm": {
     "name": "#%%\n"
    }
   }
  },
  {
   "cell_type": "markdown",
   "source": [
    "Extracting data for 2015-2017"
   ],
   "metadata": {
    "collapsed": false,
    "pycharm": {
     "name": "#%% md\n"
    }
   }
  },
  {
   "cell_type": "code",
   "execution_count": 28,
   "outputs": [],
   "source": [
    "variable_names_2015_2016_2017 = variable_names.loc[1,1:].values.tolist()\n",
    "\n",
    "extract_2015(\n",
    "        patient_ids_2015_2016_2017,\n",
    "        clinical_data_2015_2016_2017,\n",
    "        id_sheet = 'Sheet1', info_sheet = 'Sheet1 (2)', anonymise=False,\n",
    "        selected_outcomes = variable_names_2015_2016_2017)"
   ],
   "metadata": {
    "collapsed": false,
    "pycharm": {
     "name": "#%%\n"
    }
   }
  },
  {
   "cell_type": "markdown",
   "source": [
    "For 2015-2017 patients, additional data is added manually to mRS follow-up\n"
   ],
   "metadata": {
    "collapsed": false,
    "pycharm": {
     "name": "#%% md\n"
    }
   }
  },
  {
   "cell_type": "markdown",
   "source": [
    "Joining data"
   ],
   "metadata": {
    "collapsed": false,
    "pycharm": {
     "name": "#%% md\n"
    }
   }
  },
  {
   "cell_type": "code",
   "execution_count": 36,
   "outputs": [],
   "source": [
    "modified_variable_names_2015_2016_2017 = variable_names.dropna(axis=1).loc[2,1:].values.tolist()\n",
    "extracted_2018_data_path = '/Users/jk1/OneDrive - unige.ch/stroke_research/geneva_stroke_dataset/clinical_data/2018/scope_extracted_variables/extracted_clinical_outcomes_SSR_cases_of_2018_(Adm,_Hosp_and_FU).xlsx'\n",
    "complemented_extracted_2015_2016_2017_data = '/Users/jk1/OneDrive - unige.ch/stroke_research/geneva_stroke_dataset/clinical_data/2015-2017/scope_extracted_variables_data/complemented_extracted_clinical_outcomes_190419_Données 2015-16-17.xlsx'\n",
    "\n",
    "join_multi_annual_outcome_df(extracted_2018_data_path,\n",
    "                             complemented_extracted_2015_2016_2017_data,\n",
    "                             'pid',\n",
    "                             'anonymised_id',\n",
    "                             variable_names_2018,\n",
    "                             modified_variable_names_2015_2016_2017)\n",
    "\n"
   ],
   "metadata": {
    "collapsed": false,
    "pycharm": {
     "name": "#%%\n"
    }
   }
  },
  {
   "cell_type": "markdown",
   "source": [
    "#### Action required\n",
    "\n",
    "Intermediary steps\n",
    "- delete duplicates in 2018 data\n",
    "- manually completion of missing outcome in database"
   ],
   "metadata": {
    "collapsed": false,
    "pycharm": {
     "name": "#%% md\n"
    }
   }
  },
  {
   "cell_type": "markdown",
   "source": [
    "## Data curation"
   ],
   "metadata": {
    "collapsed": false,
    "pycharm": {
     "name": "#%% md\n"
    }
   },
   "execution_count": 55
  },
  {
   "cell_type": "code",
   "execution_count": 149,
   "outputs": [],
   "source": [
    "joined_data_path = '/Users/jk1/OneDrive - unige.ch/stroke_research/geneva_stroke_dataset/clinical_data/multi_annual_joined_data/scope_joined_variables/completed_joined_anon_outcome_df.xlsx'\n",
    "joined_data = pd.read_excel(joined_data_path)"
   ],
   "metadata": {
    "collapsed": false,
    "pycharm": {
     "name": "#%%\n"
    }
   }
  },
  {
   "cell_type": "code",
   "execution_count": 150,
   "outputs": [
    {
     "data": {
      "text/plain": "36"
     },
     "execution_count": 150,
     "metadata": {},
     "output_type": "execute_result"
    }
   ],
   "source": [
    "joined_data['3M mRS'].isnull().sum()"
   ],
   "metadata": {
    "collapsed": false,
    "pycharm": {
     "name": "#%%\n"
    }
   }
  },
  {
   "cell_type": "markdown",
   "source": [
    "Exclude patients with either: missing 3 month outcome or missing NIHSS (n=1)"
   ],
   "metadata": {
    "collapsed": false,
    "pycharm": {
     "name": "#%% md\n"
    }
   }
  },
  {
   "cell_type": "code",
   "execution_count": 151,
   "outputs": [],
   "source": [
    "joined_data = joined_data[joined_data['3M mRS'].notnull()]\n",
    "\n",
    "joined_data = joined_data[joined_data['NIH on admission'].notnull()]"
   ],
   "metadata": {
    "collapsed": false,
    "pycharm": {
     "name": "#%%\n"
    }
   }
  },
  {
   "cell_type": "code",
   "execution_count": 152,
   "outputs": [
    {
     "data": {
      "text/plain": "0.0    44\n1.0    34\n4.0    29\n2.0    24\n3.0    22\n6.0     8\n5.0     7\nName: 3M mRS, dtype: int64"
     },
     "execution_count": 152,
     "metadata": {},
     "output_type": "execute_result"
    }
   ],
   "source": [
    "joined_data['3M mRS'].value_counts()"
   ],
   "metadata": {
    "collapsed": false,
    "pycharm": {
     "name": "#%%\n"
    }
   }
  },
  {
   "cell_type": "code",
   "execution_count": 153,
   "outputs": [
    {
     "data": {
      "text/plain": "Unnamed: 0                        0\npid                               0\nAge (calc.)                       0\nSex                               0\nTime of symptom onset known       0\nReferral                          0\nPrestroke disability (Rankin)     0\nNIH on admission                  0\n1st syst. bp                      0\n1st diast. bp                     0\nBMI                              13\n1st glucose                       3\n1st creatinine                    0\nAntiplatelet drugs                0\nAnticoagulants                    0\nIVT with rtPA                     0\nIAT                               1\nMedHist Stroke                    0\nMedHist TIA                       0\nMedHist ICH                       0\nMedHist Hypertension              0\nMedHist Diabetes                  0\nMedHist Hyperlipidemia            0\nMedHist Smoking                   0\nMedHist Atrial Fibr.              0\n3M mRS                            0\nDoor to image (min.)              7\ndtype: int64"
     },
     "execution_count": 153,
     "metadata": {},
     "output_type": "execute_result"
    }
   ],
   "source": [
    "joined_data.isnull().sum(axis = 0)"
   ],
   "metadata": {
    "collapsed": false,
    "pycharm": {
     "name": "#%%\n"
    }
   }
  },
  {
   "cell_type": "markdown",
   "source": [
    "Curate BMI variable"
   ],
   "metadata": {
    "collapsed": false,
    "pycharm": {
     "name": "#%% md\n"
    }
   }
  },
  {
   "cell_type": "code",
   "execution_count": 154,
   "outputs": [],
   "source": [
    "joined_data.loc[joined_data['BMI'] == '?', 'BMI'] = np.nan\n",
    "joined_data['BMI'] = joined_data['BMI'].astype('float')"
   ],
   "metadata": {
    "collapsed": false,
    "pycharm": {
     "name": "#%%\n"
    }
   }
  },
  {
   "cell_type": "markdown",
   "source": [
    "Curate Sex variable"
   ],
   "metadata": {
    "collapsed": false,
    "pycharm": {
     "name": "#%% md\n"
    }
   },
   "outputs": [
    {
     "ename": "SyntaxError",
     "evalue": "invalid syntax (<ipython-input-51-3aad77e5ccf8>, line 1)",
     "output_type": "error",
     "traceback": [
      "\u001B[0;36m  File \u001B[0;32m\"<ipython-input-51-3aad77e5ccf8>\"\u001B[0;36m, line \u001B[0;32m1\u001B[0m\n\u001B[0;31m    Curate Sex variable\u001B[0m\n\u001B[0m           ^\u001B[0m\n\u001B[0;31mSyntaxError\u001B[0m\u001B[0;31m:\u001B[0m invalid syntax\n"
     ]
    }
   ],
   "execution_count": 51
  },
  {
   "cell_type": "code",
   "execution_count": 155,
   "outputs": [
    {
     "data": {
      "text/plain": "Male      92\nFemale    76\nName: Sex, dtype: int64"
     },
     "execution_count": 155,
     "metadata": {},
     "output_type": "execute_result"
    }
   ],
   "source": [
    "joined_data.loc[joined_data['Sex'] == 'F', 'Sex'] = 'Female'\n",
    "joined_data.loc[joined_data['Sex'] == 'M', 'Sex'] = 'Male'\n",
    "joined_data['Sex'].value_counts()"
   ],
   "metadata": {
    "collapsed": false,
    "pycharm": {
     "name": "#%%\n"
    }
   }
  },
  {
   "cell_type": "markdown",
   "source": [
    "Curate Referral variable"
   ],
   "metadata": {
    "collapsed": false,
    "pycharm": {
     "name": "#%% md\n"
    }
   },
   "outputs": [
    {
     "ename": "SyntaxError",
     "evalue": "invalid syntax (<ipython-input-53-6ae16281528e>, line 1)",
     "output_type": "error",
     "traceback": [
      "\u001B[0;36m  File \u001B[0;32m\"<ipython-input-53-6ae16281528e>\"\u001B[0;36m, line \u001B[0;32m1\u001B[0m\n\u001B[0;31m    Curate Referral variable\u001B[0m\n\u001B[0m           ^\u001B[0m\n\u001B[0;31mSyntaxError\u001B[0m\u001B[0;31m:\u001B[0m invalid syntax\n"
     ]
    }
   ],
   "execution_count": 53
  },
  {
   "cell_type": "code",
   "execution_count": 156,
   "outputs": [
    {
     "data": {
      "text/plain": "emergency service       131\nself referral            19\nin-hospital event         9\nother hospital            7\ngeneral practitioner      2\nName: Referral, dtype: int64"
     },
     "execution_count": 156,
     "metadata": {},
     "output_type": "execute_result"
    }
   ],
   "source": [
    "joined_data.loc[joined_data['Referral'] == 'Emergency service (144)', 'Referral'] = 'Emergency service'\n",
    "joined_data.loc[joined_data['Referral'] == 'General practionner', 'Referral'] = 'general practitioner'\n",
    "joined_data.loc[joined_data['Referral'] == 'in hospital stroke', 'Referral'] = 'in-hospital event'\n",
    "joined_data['Referral'] = joined_data['Referral'].str.lower()\n",
    "joined_data['Referral'].value_counts()"
   ],
   "metadata": {
    "collapsed": false,
    "pycharm": {
     "name": "#%%\n"
    }
   }
  },
  {
   "cell_type": "markdown",
   "source": [
    "Curate IVT treatment variable"
   ],
   "metadata": {
    "collapsed": false,
    "pycharm": {
     "name": "#%% md\n"
    }
   },
   "outputs": [
    {
     "ename": "SyntaxError",
     "evalue": "invalid syntax (<ipython-input-97-34836b37bbb1>, line 1)",
     "output_type": "error",
     "traceback": [
      "\u001B[0;36m  File \u001B[0;32m\"<ipython-input-97-34836b37bbb1>\"\u001B[0;36m, line \u001B[0;32m1\u001B[0m\n\u001B[0;31m    Curate IVT treatment variable\u001B[0m\n\u001B[0m           ^\u001B[0m\n\u001B[0;31mSyntaxError\u001B[0m\u001B[0;31m:\u001B[0m invalid syntax\n"
     ]
    }
   ],
   "execution_count": 97
  },
  {
   "cell_type": "code",
   "execution_count": 157,
   "outputs": [
    {
     "data": {
      "text/plain": "yes    138\nno      30\nName: IVT with rtPA, dtype: int64"
     },
     "execution_count": 157,
     "metadata": {},
     "output_type": "execute_result"
    }
   ],
   "source": [
    "joined_data['IVT with rtPA'] = joined_data['IVT with rtPA'].str.strip()\n",
    "joined_data.loc[joined_data['IVT with rtPA'] == 'oui', 'IVT with rtPA'] = 'yes'\n",
    "joined_data.loc[joined_data['IVT with rtPA'] == 'non', 'IVT with rtPA'] = 'no'\n",
    "joined_data['IVT with rtPA'].value_counts()"
   ],
   "metadata": {
    "collapsed": false,
    "pycharm": {
     "name": "#%%\n"
    }
   }
  },
  {
   "cell_type": "markdown",
   "source": [
    "Strip whitespaces in all medical history columns"
   ],
   "metadata": {
    "collapsed": false,
    "pycharm": {
     "name": "#%% md\n"
    }
   }
  },
  {
   "cell_type": "code",
   "execution_count": 158,
   "outputs": [
    {
     "data": {
      "text/plain": "no     106\nyes     62\nName: MedHist Hyperlipidemia, dtype: int64"
     },
     "execution_count": 158,
     "metadata": {},
     "output_type": "execute_result"
    }
   ],
   "source": [
    "filter_col = [col for col in joined_data if col.startswith('MedHist')]\n",
    "joined_data[filter_col] = joined_data[filter_col].apply(lambda column: column.str.strip())\n",
    "joined_data['MedHist Hyperlipidemia'].value_counts()"
   ],
   "metadata": {
    "collapsed": false,
    "pycharm": {
     "name": "#%%\n"
    }
   }
  },
  {
   "cell_type": "markdown",
   "source": [
    "Convert categorical variables to integers\n",
    "\n",
    "*Note: missing variables are encoded as -1 -> there are then removed again*"
   ],
   "metadata": {
    "collapsed": false,
    "pycharm": {
     "name": "#%% md\n"
    }
   }
  },
  {
   "cell_type": "code",
   "execution_count": 159,
   "outputs": [],
   "source": [
    "char_cols = joined_data.dtypes.pipe(lambda x: x[x == 'object']).index\n",
    "# Ignore pid column\n",
    "char_cols = char_cols.drop('pid')\n",
    "label_mapping = {}\n",
    "\n",
    "for c in char_cols:\n",
    "    joined_data[c], label_mapping[c] = pd.factorize(joined_data[c])\n",
    "    joined_data.loc[joined_data[c] < 0, c] = np.nan"
   ],
   "metadata": {
    "collapsed": false,
    "pycharm": {
     "name": "#%%\n"
    }
   }
  },
  {
   "cell_type": "markdown",
   "source": [
    "#### Action required\n",
    "Verify for duplicates (these should be removed before converting to categories to binaries)"
   ],
   "metadata": {
    "collapsed": false,
    "pycharm": {
     "name": "#%% md\n"
    }
   }
  },
  {
   "cell_type": "code",
   "execution_count": 160,
   "outputs": [
    {
     "data": {
      "text/plain": "{'Sex': Index(['Female', 'Male'], dtype='object'),\n 'Time of symptom onset known': Index(['yes', 'wake up', 'no'], dtype='object'),\n 'Referral': Index(['emergency service', 'in-hospital event', 'self referral',\n        'other hospital', 'general practitioner'],\n       dtype='object'),\n 'Antiplatelet drugs': Index(['no', 'yes'], dtype='object'),\n 'Anticoagulants': Index(['no', 'yes'], dtype='object'),\n 'IVT with rtPA': Index(['yes', 'no'], dtype='object'),\n 'IAT': Index(['no', 'yes'], dtype='object'),\n 'MedHist Stroke': Index(['no', 'yes'], dtype='object'),\n 'MedHist TIA': Index(['no', 'yes'], dtype='object'),\n 'MedHist ICH': Index(['no', 'yes'], dtype='object'),\n 'MedHist Hypertension': Index(['no', 'yes'], dtype='object'),\n 'MedHist Diabetes': Index(['no', 'yes'], dtype='object'),\n 'MedHist Hyperlipidemia': Index(['yes', 'no'], dtype='object'),\n 'MedHist Smoking': Index(['no', 'yes'], dtype='object'),\n 'MedHist Atrial Fibr.': Index(['no', 'yes'], dtype='object')}"
     },
     "execution_count": 160,
     "metadata": {},
     "output_type": "execute_result"
    }
   ],
   "source": [
    "label_mapping\n"
   ],
   "metadata": {
    "collapsed": false,
    "pycharm": {
     "name": "#%%\n"
    }
   }
  },
  {
   "cell_type": "code",
   "execution_count": 161,
   "outputs": [],
   "source": [
    "# save curated data\n",
    "curated_data_path = os.path.join(os.path.dirname(joined_data_path), 'curated_completed_joined_anon_outcome_df.xlsx')\n",
    "joined_data.to_excel(curated_data_path)"
   ],
   "metadata": {
    "collapsed": false,
    "pycharm": {
     "name": "#%%\n"
    }
   }
  },
  {
   "cell_type": "markdown",
   "source": [
    "## Restrict to patients with imaging data available"
   ],
   "metadata": {
    "collapsed": false,
    "pycharm": {
     "name": "#%% md\n"
    }
   },
   "outputs": [
    {
     "ename": "SyntaxError",
     "evalue": "invalid syntax (<ipython-input-90-adc600847c85>, line 1)",
     "output_type": "error",
     "traceback": [
      "\u001B[0;36m  File \u001B[0;32m\"<ipython-input-90-adc600847c85>\"\u001B[0;36m, line \u001B[0;32m1\u001B[0m\n\u001B[0;31m    Restrict to patients with imaging data available\u001B[0m\n\u001B[0m             ^\u001B[0m\n\u001B[0;31mSyntaxError\u001B[0m\u001B[0;31m:\u001B[0m invalid syntax\n"
     ]
    }
   ],
   "execution_count": 90
  },
  {
   "cell_type": "code",
   "execution_count": 162,
   "outputs": [],
   "source": [
    "imaging_dataset_path = '/Users/jk1/stroke_datasets/dataset_files/perfusion_data_sets/noGT_datasets/noGT_pmaps_15-19_dataset.npz'\n",
    "ids = np.load(imaging_dataset_path, allow_pickle=True)['ids']"
   ],
   "metadata": {
    "collapsed": false,
    "pycharm": {
     "name": "#%%\n"
    }
   }
  },
  {
   "cell_type": "code",
   "execution_count": 163,
   "outputs": [],
   "source": [
    "data_with_imaging = joined_data[joined_data['pid'].isin(ids)]\n",
    "data_with_imaging.to_excel(os.path.join(os.path.dirname(joined_data_path), 'with_imaging_curated_completed_joined_anon_outcome_df.xlsx'))"
   ],
   "metadata": {
    "collapsed": false,
    "pycharm": {
     "name": "#%%\n"
    }
   }
  },
  {
   "cell_type": "markdown",
   "source": [
    "## Filter imaging dataset for subjects having all clinical variables"
   ],
   "metadata": {
    "collapsed": false,
    "pycharm": {
     "name": "#%% md\n"
    }
   }
  },
  {
   "cell_type": "code",
   "execution_count": 103,
   "outputs": [
    {
     "name": "stdout",
     "output_type": "stream",
     "text": [
      "Loading a total of 201 subjects.\n",
      "Sequences used: {'ct_sequences': ['wcoreg_Tmax', 'wcoreg_CBF', 'wcoreg_MTT', 'wcoreg_CBV'], 'mri_sequences': ['masked_wcoreg_VOI']}\n",
      "0 subjects had been excluded.\n",
      "subj-799c5528 not found in clinical database. Will be removed.\n",
      "subj-5ca2adc0 not found in clinical database. Will be removed.\n",
      "subj-96beef92 not found in clinical database. Will be removed.\n",
      "subj-b34c2105 not found in clinical database. Will be removed.\n",
      "subj-61f13baa not found in clinical database. Will be removed.\n",
      "subj-60c7d944 not found in clinical database. Will be removed.\n",
      "subj-dcdfb2af not found in clinical database. Will be removed.\n",
      "subj-b1a35c04 not found in clinical database. Will be removed.\n",
      "subj-9b85c60e not found in clinical database. Will be removed.\n",
      "subj-56a1e19d not found in clinical database. Will be removed.\n",
      "subj-e54598a6 not found in clinical database. Will be removed.\n",
      "subj-f082265f not found in clinical database. Will be removed.\n",
      "subj-538a58f1 not found in clinical database. Will be removed.\n",
      "subj-179e14e5 not found in clinical database. Will be removed.\n",
      "subj-b84af9ba not found in clinical database. Will be removed.\n",
      "subj-4ef7df68 not found in clinical database. Will be removed.\n",
      "subj-d890ff76 not found in clinical database. Will be removed.\n",
      "subj-848a19b9 not found in clinical database. Will be removed.\n",
      "subj-0812f7f6 not found in clinical database. Will be removed.\n",
      "subj-a261053e not found in clinical database. Will be removed.\n",
      "subj-e65bbcbe not found in clinical database. Will be removed.\n",
      "subj-49d7090f not found in clinical database. Will be removed.\n",
      "subj-546b1c6b not found in clinical database. Will be removed.\n",
      "subj-5fbc0eb0 not found in clinical database. Will be removed.\n",
      "subj-6d3e8b39 not found in clinical database. Will be removed.\n",
      "subj-02bb4f97 not found in clinical database. Will be removed.\n",
      "subj-475c90e7 not found in clinical database. Will be removed.\n",
      "subj-988f80d2 not found in clinical database. Will be removed.\n",
      "subj-ae6533a1 not found in clinical database. Will be removed.\n",
      "subj-d2244cd4 not found in clinical database. Will be removed.\n",
      "subj-5efc7cc0 not found in clinical database. Will be removed.\n",
      "subj-8d670cfb not found in clinical database. Will be removed.\n",
      "subj-52e74740 not found in clinical database. Will be removed.\n",
      "subj-a42cc630 not found in clinical database. Will be removed.\n",
      "subj-be1a68ac not found in clinical database. Will be removed.\n",
      "subj-e82cefc7 not found in clinical database. Will be removed.\n",
      "subj-57d53e09 not found in clinical database. Will be removed.\n",
      "subj-e3230611 not found in clinical database. Will be removed.\n",
      "subj-fdda0aee not found in clinical database. Will be removed.\n",
      "Saving a total of 162 subjects.\n"
     ]
    }
   ],
   "source": [
    "filter_for_clinical_param(imaging_dataset_path, curated_data_path, '3M mRS','pid')\n"
   ],
   "metadata": {
    "collapsed": false,
    "pycharm": {
     "name": "#%%\n"
    }
   }
  },
  {
   "cell_type": "code",
   "execution_count": 104,
   "outputs": [
    {
     "data": {
      "text/plain": "no     90\nyes    71\nName: IAT, dtype: int64"
     },
     "execution_count": 104,
     "metadata": {},
     "output_type": "execute_result"
    }
   ],
   "source": [
    "data_with_imaging['IAT'].value_counts()"
   ],
   "metadata": {
    "collapsed": false,
    "pycharm": {
     "name": "#%%\n"
    }
   }
  },
  {
   "cell_type": "code",
   "execution_count": 105,
   "outputs": [
    {
     "data": {
      "text/plain": "yes     97\noui     38\nno      23\nnon      4\nName: IVT with rtPA, dtype: int64"
     },
     "execution_count": 105,
     "metadata": {},
     "output_type": "execute_result"
    }
   ],
   "source": [
    "data_with_imaging['IVT with rtPA'].value_counts()"
   ],
   "metadata": {
    "collapsed": false,
    "pycharm": {
     "name": "#%%\n"
    }
   }
  },
  {
   "cell_type": "code",
   "execution_count": null,
   "outputs": [],
   "source": [],
   "metadata": {
    "collapsed": false,
    "pycharm": {
     "name": "#%%\n"
    }
   }
  }
 ],
 "metadata": {
  "kernelspec": {
   "display_name": "Python 3",
   "language": "python",
   "name": "python3"
  },
  "language_info": {
   "codemirror_mode": {
    "name": "ipython",
    "version": 2
   },
   "file_extension": ".py",
   "mimetype": "text/x-python",
   "name": "python",
   "nbconvert_exporter": "python",
   "pygments_lexer": "ipython2",
   "version": "2.7.6"
  }
 },
 "nbformat": 4,
 "nbformat_minor": 0
}