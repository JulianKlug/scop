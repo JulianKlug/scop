{
 "cells": [
  {
   "cell_type": "markdown",
   "source": [
    "# Extracting onset and clinical variables from clinical databases"
   ],
   "metadata": {
    "collapsed": false,
    "pycharm": {
     "name": "#%% md\n"
    }
   }
  },
  {
   "cell_type": "code",
   "execution_count": 2,
   "outputs": [],
   "source": [
    "import pandas as pd\n",
    "import seaborn as sns\n",
    "import os\n",
    "import numpy as np\n",
    "from gsd_pipeline.dataset_tools.filter_for_clinical_param import filter_for_clinical_param\n",
    "from gsd_pipeline.clinical_data.from_2018.extract_clinical_outcomes import extract_clinical_outcomes as extract_2018\n",
    "from gsd_pipeline.clinical_data.years_2015_2016_2017.extract_clinical_outcomes import extract_clinical_outcomes as extract_2015\n",
    "from gsd_pipeline.clinical_data.join_multi_annual_outcome_df import join_multi_annual_outcome_df"
   ],
   "metadata": {
    "collapsed": false,
    "pycharm": {
     "name": "#%%\n"
    }
   }
  },
  {
   "cell_type": "code",
   "execution_count": 26,
   "outputs": [],
   "source": [
    "variable_names = '/Users/jk1/OneDrive - unige.ch/stroke_research/scope/variables/onset/onset_scope_variable_selection.xlsx'\n",
    "patient_ids_2018 = '/Users/jk1/OneDrive - unige.ch/stroke_research/geneva_stroke_dataset/imaging_keys/2018/patient_ids_keys_2018.xlsx'\n",
    "clinical_data_2018 = '/Users/jk1/temp/scope_clinical_data_extraction/SSR_cases_of_2018_(Adm,_Hosp_and_FU).xlsx'\n",
    "\n",
    "patient_ids_2015_2016_2017 = '/Users/jk1/OneDrive - unige.ch/stroke_research/geneva_stroke_dataset/imaging_keys/2015-2017/anonymisation_key_pCT_2016_2017.xlsx'\n",
    "clinical_data_2015_2016_2017 = '/Users/jk1/temp/scope_clinical_data_extraction/190419_Données 2015-16-17.xlsx'\n",
    "\n",
    "variable_names = pd.read_excel(variable_names, header=None)"
   ],
   "metadata": {
    "collapsed": false,
    "pycharm": {
     "name": "#%%\n"
    }
   }
  },
  {
   "cell_type": "markdown",
   "source": [
    "### Extracting data for 2018"
   ],
   "metadata": {
    "collapsed": false
   }
  },
  {
   "cell_type": "code",
   "execution_count": 11,
   "outputs": [
    {
     "name": "stdout",
     "output_type": "stream",
     "text": [
      "WARNING: Remove header and blank lines from patient info file first.\n",
      "Output may contain duplicates, please remove them manually as not all duplicate entries are the same.\n"
     ]
    }
   ],
   "source": [
    "variable_names_2018 = variable_names.loc[0,1:].values.tolist()\n",
    "\n",
    "extract_2018(\n",
    "    patient_ids_2018,\n",
    "    clinical_data_2018, id_sheet='Sheet1',\n",
    "    info_sheet='Export cases registered in.',\n",
    "    anonymise=False,\n",
    "    selected_outcomes = variable_names_2018\n",
    ")\n"
   ],
   "metadata": {
    "collapsed": false,
    "pycharm": {
     "name": "#%%\n"
    }
   }
  },
  {
   "cell_type": "markdown",
   "source": [
    "### Extracting data for 2015-2017"
   ],
   "metadata": {
    "collapsed": false
   }
  },
  {
   "cell_type": "code",
   "execution_count": 15,
   "outputs": [],
   "source": [
    "variable_names_2015_2016_2017 = variable_names.loc[1,1:].dropna().values.tolist()\n",
    "\n",
    "extract_2015(\n",
    "        patient_ids_2015_2016_2017,\n",
    "        clinical_data_2015_2016_2017,\n",
    "        id_sheet = 'Sheet1', info_sheet = 'Sheet1 (2)', anonymise=False,\n",
    "        selected_outcomes = variable_names_2015_2016_2017)\n"
   ],
   "metadata": {
    "collapsed": false,
    "pycharm": {
     "name": "#%%\n"
    }
   }
  },
  {
   "cell_type": "markdown",
   "source": [
    "For 2015-2017 patients, additional data is added manually to mRS follow-up"
   ],
   "metadata": {
    "collapsed": false
   }
  },
  {
   "cell_type": "markdown",
   "source": [
    "For 2018 patients some 1st imaging dates are completed manually by checking DICOMs"
   ],
   "metadata": {
    "collapsed": false,
    "pycharm": {
     "name": "#%% md\n"
    }
   }
  },
  {
   "cell_type": "markdown",
   "source": [
    "## Onset timing variable creation\n",
    "Adding onset to imaging variable for 2018 (added manually to 2015-2017 because of inconsistent data)"
   ],
   "metadata": {
    "collapsed": false,
    "pycharm": {
     "name": "#%% md\n"
    }
   }
  },
  {
   "cell_type": "code",
   "execution_count": 22,
   "outputs": [],
   "source": [
    "extracted_2018_path = '/Users/jk1/OneDrive - unige.ch/stroke_research/geneva_stroke_dataset/clinical_data/2018/scope_extracted_completed_variables/completed_extracted_clinical_outcomes_SSR_cases_of_2018_(Adm,_Hosp_and_FU).xlsx'\n",
    "extracted_2018_df = pd.read_excel(extracted_2018_path)"
   ],
   "metadata": {
    "collapsed": false,
    "pycharm": {
     "name": "#%%\n"
    }
   }
  },
  {
   "cell_type": "code",
   "execution_count": 23,
   "outputs": [],
   "source": [
    "onset_date = pd.to_datetime(pd.to_datetime(extracted_2018_df['Onset date'], format='%Y%m%d').dt.strftime('%d-%m-%Y') \\\n",
    "                                        + ' ' + extracted_2018_df['Onset time'], format='%d-%m-%Y %H:%M')\n",
    "\n",
    "imaging_date = pd.to_datetime(pd.to_datetime(extracted_2018_df['1st brain imaging date'], format='%Y%m%d').dt.strftime('%d-%m-%Y') \\\n",
    "                                        + ' ' + extracted_2018_df['1st brain imaging time'], format='%d-%m-%Y %H:%M')\n",
    "\n",
    "extracted_2018_df['onset_to_imaging'] = (imaging_date-onset_date).dt.total_seconds().div(60)"
   ],
   "metadata": {
    "collapsed": false,
    "pycharm": {
     "name": "#%%\n"
    }
   }
  },
  {
   "cell_type": "code",
   "execution_count": 24,
   "outputs": [],
   "source": [
    "extracted_2018_df['onset_date_reformatted'] = onset_date\n",
    "extracted_2018_df['imaging_date_reformatted'] = imaging_date"
   ],
   "metadata": {
    "collapsed": false,
    "pycharm": {
     "name": "#%%\n"
    }
   }
  },
  {
   "cell_type": "code",
   "execution_count": 25,
   "outputs": [],
   "source": [
    "extracted_2018_df.to_excel(extracted_2018_path)"
   ],
   "metadata": {
    "collapsed": false,
    "pycharm": {
     "name": "#%%\n"
    }
   }
  },
  {
   "cell_type": "markdown",
   "source": [
    "### Joining data"
   ],
   "metadata": {
    "collapsed": false
   }
  },
  {
   "cell_type": "code",
   "execution_count": 27,
   "outputs": [],
   "source": [
    "modified_variable_names_2015_2016_2017 = variable_names.loc[2,1:].dropna().values.tolist()\n",
    "modified_variable_names_2018 = variable_names.loc[3,1:].dropna().values.tolist()"
   ],
   "metadata": {
    "collapsed": false,
    "pycharm": {
     "name": "#%%\n"
    }
   }
  },
  {
   "cell_type": "code",
   "execution_count": 29,
   "outputs": [],
   "source": [
    "complemented_extracted_2015_2016_2017_path = '/Users/jk1/OneDrive - unige.ch/stroke_research/geneva_stroke_dataset/clinical_data/2015-2017/scope_extracted_variables_data/onset_selected_variables/complemented_extracted_clinical_outcomes_190419_Données 2015-16-17.xlsx'"
   ],
   "metadata": {
    "collapsed": false,
    "pycharm": {
     "name": "#%%\n"
    }
   }
  },
  {
   "cell_type": "code",
   "source": [
    "join_multi_annual_outcome_df(extracted_2018_path,\n",
    "                             complemented_extracted_2015_2016_2017_path,\n",
    "                             'pid',\n",
    "                             'anonymised_id',\n",
    "                             modified_variable_names_2018,\n",
    "                             modified_variable_names_2015_2016_2017)"
   ],
   "metadata": {
    "collapsed": false,
    "pycharm": {
     "name": "#%%\n"
    }
   },
   "execution_count": 30,
   "outputs": []
  },
  {
   "cell_type": "markdown",
   "source": [
    "## Data curation"
   ],
   "metadata": {
    "collapsed": false
   }
  },
  {
   "cell_type": "code",
   "execution_count": 44,
   "outputs": [],
   "source": [
    "joined_data_path = '/Users/jk1/OneDrive - unige.ch/stroke_research/geneva_stroke_dataset/clinical_data/multi_annual_joined_data/scope_joined_variables/onset_prediction/joined_anon_outcome_df.xlsx'\n",
    "joined_data = pd.read_excel(joined_data_path)"
   ],
   "metadata": {
    "collapsed": false,
    "pycharm": {
     "name": "#%%\n"
    }
   }
  },
  {
   "cell_type": "code",
   "execution_count": 45,
   "outputs": [
    {
     "data": {
      "text/plain": "3"
     },
     "execution_count": 45,
     "metadata": {},
     "output_type": "execute_result"
    }
   ],
   "source": [
    "joined_data['onset_to_imaging'].isnull().sum()"
   ],
   "metadata": {
    "collapsed": false,
    "pycharm": {
     "name": "#%%\n"
    }
   }
  },
  {
   "cell_type": "markdown",
   "source": [
    "Exclude patients with missing onset to imaging"
   ],
   "metadata": {
    "collapsed": false,
    "pycharm": {
     "name": "#%% md\n"
    }
   }
  },
  {
   "cell_type": "code",
   "execution_count": 46,
   "outputs": [],
   "source": [
    "joined_data = joined_data[joined_data['onset_to_imaging'].notnull()]\n"
   ],
   "metadata": {
    "collapsed": false,
    "pycharm": {
     "name": "#%%\n"
    }
   }
  },
  {
   "cell_type": "code",
   "execution_count": 47,
   "outputs": [
    {
     "data": {
      "text/plain": "Unnamed: 0                        0\npid                               0\nAge (calc.)                       0\nSex                               0\nTime of symptom onset known       1\nReferral                          0\nPrestroke disability (Rankin)     0\nNIH on admission                  2\n1st syst. bp                      0\n1st diast. bp                     0\nBMI                              17\n1st glucose                       4\n1st creatinine                    2\nAntiplatelet drugs                0\nAnticoagulants                    1\nIVT with rtPA                     1\nIAT                               2\nMedHist Stroke                    1\nMedHist TIA                       1\nMedHist ICH                       1\nMedHist Hypertension              0\nMedHist Diabetes                  0\nMedHist Hyperlipidemia            0\nMedHist Smoking                   0\nMedHist Atrial Fibr.              0\n3M mRS                           35\nDoor to image (min.)             12\nonset_to_imaging                  0\ndtype: int64"
     },
     "execution_count": 47,
     "metadata": {},
     "output_type": "execute_result"
    }
   ],
   "source": [
    "joined_data.isnull().sum(axis = 0)"
   ],
   "metadata": {
    "collapsed": false,
    "pycharm": {
     "name": "#%%\n"
    }
   }
  },
  {
   "cell_type": "markdown",
   "source": [
    "Curate BMI variable"
   ],
   "metadata": {
    "collapsed": false
   }
  },
  {
   "cell_type": "code",
   "execution_count": 48,
   "outputs": [],
   "source": [
    "joined_data.loc[joined_data['BMI'] == '?', 'BMI'] = np.nan\n",
    "joined_data['BMI'] = joined_data['BMI'].astype('float')"
   ],
   "metadata": {
    "collapsed": false,
    "pycharm": {
     "name": "#%%\n"
    }
   }
  },
  {
   "cell_type": "markdown",
   "source": [
    "Curate Sex variable"
   ],
   "metadata": {
    "collapsed": false
   }
  },
  {
   "cell_type": "code",
   "execution_count": 49,
   "outputs": [
    {
     "data": {
      "text/plain": "Male      112\nFemale     90\nName: Sex, dtype: int64"
     },
     "execution_count": 49,
     "metadata": {},
     "output_type": "execute_result"
    }
   ],
   "source": [
    "joined_data.loc[joined_data['Sex'] == 'F', 'Sex'] = 'Female'\n",
    "joined_data.loc[joined_data['Sex'] == 'M', 'Sex'] = 'Male'\n",
    "joined_data['Sex'].value_counts()"
   ],
   "metadata": {
    "collapsed": false,
    "pycharm": {
     "name": "#%%\n"
    }
   }
  },
  {
   "cell_type": "markdown",
   "source": [
    "Curate Referral variable"
   ],
   "metadata": {
    "collapsed": false
   }
  },
  {
   "cell_type": "code",
   "execution_count": 50,
   "outputs": [
    {
     "data": {
      "text/plain": "emergency service       152\nself referral            20\nother hospital           18\nin-hospital event         9\ngeneral practitioner      2\nsamu                      1\nName: Referral, dtype: int64"
     },
     "execution_count": 50,
     "metadata": {},
     "output_type": "execute_result"
    }
   ],
   "source": [
    "joined_data.loc[joined_data['Referral'] == 'Emergency service (144)', 'Referral'] = 'Emergency service'\n",
    "joined_data.loc[joined_data['Referral'] == 'samu', 'Referral'] = 'Emergency service'\n",
    "joined_data.loc[joined_data['Referral'] == 'General practionner', 'Referral'] = 'general practitioner'\n",
    "joined_data.loc[joined_data['Referral'] == 'in hospital stroke', 'Referral'] = 'in-hospital event'\n",
    "joined_data['Referral'] = joined_data['Referral'].str.lower()\n",
    "joined_data['Referral'].value_counts()"
   ],
   "metadata": {
    "collapsed": false,
    "pycharm": {
     "name": "#%%\n"
    }
   }
  },
  {
   "cell_type": "markdown",
   "source": [
    "Curate IVT treatment variable"
   ],
   "metadata": {
    "collapsed": false
   }
  },
  {
   "cell_type": "code",
   "execution_count": 51,
   "outputs": [
    {
     "data": {
      "text/plain": "yes    165\nno      36\nName: IVT with rtPA, dtype: int64"
     },
     "execution_count": 51,
     "metadata": {},
     "output_type": "execute_result"
    }
   ],
   "source": [
    "joined_data['IVT with rtPA'] = joined_data['IVT with rtPA'].str.strip()\n",
    "joined_data.loc[joined_data['IVT with rtPA'] == 'oui', 'IVT with rtPA'] = 'yes'\n",
    "joined_data.loc[joined_data['IVT with rtPA'] == 'started before admission', 'IVT with rtPA'] = 'yes'\n",
    "joined_data.loc[joined_data['IVT with rtPA'] == 'non', 'IVT with rtPA'] = 'no'\n",
    "joined_data['IVT with rtPA'].value_counts()"
   ],
   "metadata": {
    "collapsed": false,
    "pycharm": {
     "name": "#%%\n"
    }
   }
  },
  {
   "cell_type": "markdown",
   "source": [
    "Strip whitespaces in all medical history columns"
   ],
   "metadata": {
    "collapsed": false
   }
  },
  {
   "cell_type": "code",
   "execution_count": 52,
   "outputs": [
    {
     "data": {
      "text/plain": "no     123\nyes     79\nName: MedHist Hyperlipidemia, dtype: int64"
     },
     "execution_count": 52,
     "metadata": {},
     "output_type": "execute_result"
    }
   ],
   "source": [
    "filter_col = [col for col in joined_data if col.startswith('MedHist')]\n",
    "joined_data[filter_col] = joined_data[filter_col].apply(lambda column: column.str.strip())\n",
    "joined_data['MedHist Hyperlipidemia'].value_counts()"
   ],
   "metadata": {
    "collapsed": false,
    "pycharm": {
     "name": "#%%\n"
    }
   }
  },
  {
   "cell_type": "markdown",
   "source": [
    "Convert categorical variables to integers\n",
    "\n",
    "*Note: missing variables are encoded as -1 -> there are then removed again*"
   ],
   "metadata": {
    "collapsed": false
   }
  },
  {
   "cell_type": "code",
   "execution_count": 53,
   "outputs": [],
   "source": [
    "char_cols = joined_data.dtypes.pipe(lambda x: x[x == 'object']).index\n",
    "# Ignore pid column\n",
    "char_cols = char_cols.drop('pid')\n",
    "label_mapping = {}\n",
    "\n",
    "for c in char_cols:\n",
    "    joined_data[c], label_mapping[c] = pd.factorize(joined_data[c])\n",
    "    joined_data.loc[joined_data[c] < 0, c] = np.nan"
   ],
   "metadata": {
    "collapsed": false,
    "pycharm": {
     "name": "#%%\n"
    }
   }
  },
  {
   "cell_type": "markdown",
   "source": [
    "#### Action required\n",
    "Verify for duplicates (these should be removed before converting categories to binaries)"
   ],
   "metadata": {
    "collapsed": false,
    "pycharm": {
     "name": "#%% md\n"
    }
   }
  },
  {
   "cell_type": "code",
   "execution_count": 54,
   "outputs": [
    {
     "data": {
      "text/plain": "{'Sex': Index(['Female', 'Male'], dtype='object'),\n 'Time of symptom onset known': Index(['yes', 'wake up', 'no'], dtype='object'),\n 'Referral': Index(['emergency service', 'in-hospital event', 'self referral',\n        'other hospital', 'samu', 'general practitioner'],\n       dtype='object'),\n 'Antiplatelet drugs': Index(['no', 'yes'], dtype='object'),\n 'Anticoagulants': Index(['no', 'yes'], dtype='object'),\n 'IVT with rtPA': Index(['yes', 'no'], dtype='object'),\n 'IAT': Index(['no', 'yes'], dtype='object'),\n 'MedHist Stroke': Index(['no', 'yes'], dtype='object'),\n 'MedHist TIA': Index(['no', 'yes'], dtype='object'),\n 'MedHist ICH': Index(['no', 'yes'], dtype='object'),\n 'MedHist Hypertension': Index(['no', 'yes'], dtype='object'),\n 'MedHist Diabetes': Index(['no', 'yes'], dtype='object'),\n 'MedHist Hyperlipidemia': Index(['yes', 'no'], dtype='object'),\n 'MedHist Smoking': Index(['no', 'yes'], dtype='object'),\n 'MedHist Atrial Fibr.': Index(['no', 'yes'], dtype='object')}"
     },
     "execution_count": 54,
     "metadata": {},
     "output_type": "execute_result"
    }
   ],
   "source": [
    "label_mapping\n"
   ],
   "metadata": {
    "collapsed": false,
    "pycharm": {
     "name": "#%%\n"
    }
   }
  },
  {
   "cell_type": "code",
   "execution_count": 5,
   "outputs": [
    {
     "ename": "NameError",
     "evalue": "name 'joined_data_path' is not defined",
     "output_type": "error",
     "traceback": [
      "\u001B[0;31m---------------------------------------------------------------------------\u001B[0m",
      "\u001B[0;31mNameError\u001B[0m                                 Traceback (most recent call last)",
      "\u001B[0;32m<ipython-input-5-ac16df55ee5a>\u001B[0m in \u001B[0;36m<module>\u001B[0;34m\u001B[0m\n\u001B[1;32m      1\u001B[0m \u001B[0;31m# save curated data\u001B[0m\u001B[0;34m\u001B[0m\u001B[0;34m\u001B[0m\u001B[0;34m\u001B[0m\u001B[0m\n\u001B[0;32m----> 2\u001B[0;31m \u001B[0mcurated_data_path\u001B[0m \u001B[0;34m=\u001B[0m \u001B[0mos\u001B[0m\u001B[0;34m.\u001B[0m\u001B[0mpath\u001B[0m\u001B[0;34m.\u001B[0m\u001B[0mjoin\u001B[0m\u001B[0;34m(\u001B[0m\u001B[0mos\u001B[0m\u001B[0;34m.\u001B[0m\u001B[0mpath\u001B[0m\u001B[0;34m.\u001B[0m\u001B[0mdirname\u001B[0m\u001B[0;34m(\u001B[0m\u001B[0mjoined_data_path\u001B[0m\u001B[0;34m)\u001B[0m\u001B[0;34m,\u001B[0m \u001B[0;34m'curated_completed_joined_anon_outcome_df.xlsx'\u001B[0m\u001B[0;34m)\u001B[0m\u001B[0;34m\u001B[0m\u001B[0;34m\u001B[0m\u001B[0m\n\u001B[0m\u001B[1;32m      3\u001B[0m \u001B[0mjoined_data\u001B[0m\u001B[0;34m.\u001B[0m\u001B[0mto_excel\u001B[0m\u001B[0;34m(\u001B[0m\u001B[0mcurated_data_path\u001B[0m\u001B[0;34m)\u001B[0m\u001B[0;34m\u001B[0m\u001B[0;34m\u001B[0m\u001B[0m\n\u001B[1;32m      4\u001B[0m \u001B[0;34m\u001B[0m\u001B[0m\n",
      "\u001B[0;31mNameError\u001B[0m: name 'joined_data_path' is not defined"
     ]
    }
   ],
   "source": [
    "# save curated data\n",
    "curated_data_path = os.path.join(os.path.dirname(joined_data_path), 'curated_completed_joined_anon_outcome_df.xlsx')\n",
    "joined_data.to_excel(curated_data_path)"
   ],
   "metadata": {
    "collapsed": false,
    "pycharm": {
     "name": "#%%\n"
    }
   }
  },
  {
   "cell_type": "markdown",
   "source": [
    "## Restrict to patients with imaging data available"
   ],
   "metadata": {
    "collapsed": false
   }
  },
  {
   "cell_type": "code",
   "execution_count": 3,
   "outputs": [],
   "source": [
    "# imaging_dataset_path = '/Users/jk1/stroke_datasets/dataset_files/perfusion_data_sets/noGT_datasets/noGT_pmaps_15-19_dataset.npz'\n",
    "imaging_dataset_path = '/Users/jk1/stroke_datasets/dataset_files/perfusion_data_sets/with_ncct_dataset.npz'\n",
    "ids = np.load(imaging_dataset_path, allow_pickle=True)['ids']"
   ],
   "metadata": {
    "collapsed": false,
    "pycharm": {
     "name": "#%%\n"
    }
   }
  },
  {
   "cell_type": "code",
   "execution_count": 7,
   "outputs": [
    {
     "ename": "NameError",
     "evalue": "name 'joined_data' is not defined",
     "output_type": "error",
     "traceback": [
      "\u001B[0;31m---------------------------------------------------------------------------\u001B[0m",
      "\u001B[0;31mNameError\u001B[0m                                 Traceback (most recent call last)",
      "\u001B[0;32m<ipython-input-7-555963d4701c>\u001B[0m in \u001B[0;36m<module>\u001B[0;34m\u001B[0m\n\u001B[0;32m----> 1\u001B[0;31m \u001B[0mdata_with_imaging\u001B[0m \u001B[0;34m=\u001B[0m \u001B[0mjoined_data\u001B[0m\u001B[0;34m[\u001B[0m\u001B[0mjoined_data\u001B[0m\u001B[0;34m[\u001B[0m\u001B[0;34m'pid'\u001B[0m\u001B[0;34m]\u001B[0m\u001B[0;34m.\u001B[0m\u001B[0misin\u001B[0m\u001B[0;34m(\u001B[0m\u001B[0mids\u001B[0m\u001B[0;34m)\u001B[0m\u001B[0;34m]\u001B[0m\u001B[0;34m\u001B[0m\u001B[0;34m\u001B[0m\u001B[0m\n\u001B[0m\u001B[1;32m      2\u001B[0m \u001B[0mdata_with_imaging\u001B[0m\u001B[0;34m.\u001B[0m\u001B[0mto_excel\u001B[0m\u001B[0;34m(\u001B[0m\u001B[0mos\u001B[0m\u001B[0;34m.\u001B[0m\u001B[0mpath\u001B[0m\u001B[0;34m.\u001B[0m\u001B[0mjoin\u001B[0m\u001B[0;34m(\u001B[0m\u001B[0mos\u001B[0m\u001B[0;34m.\u001B[0m\u001B[0mpath\u001B[0m\u001B[0;34m.\u001B[0m\u001B[0mdirname\u001B[0m\u001B[0;34m(\u001B[0m\u001B[0mjoined_data_path\u001B[0m\u001B[0;34m)\u001B[0m\u001B[0;34m,\u001B[0m \u001B[0;34m'with_imaging_curated_completed_joined_anon_outcome_df.xlsx'\u001B[0m\u001B[0;34m)\u001B[0m\u001B[0;34m)\u001B[0m\u001B[0;34m\u001B[0m\u001B[0;34m\u001B[0m\u001B[0m\n\u001B[1;32m      3\u001B[0m \u001B[0;34m\u001B[0m\u001B[0m\n",
      "\u001B[0;31mNameError\u001B[0m: name 'joined_data' is not defined"
     ]
    }
   ],
   "source": [
    "data_with_imaging = joined_data[joined_data['pid'].isin(ids)]\n",
    "data_with_imaging.to_excel(os.path.join(os.path.dirname(joined_data_path), 'with_imaging_curated_completed_joined_anon_outcome_df.xlsx'))"
   ],
   "metadata": {
    "collapsed": false,
    "pycharm": {
     "name": "#%%\n"
    }
   }
  },
  {
   "cell_type": "markdown",
   "source": [
    "## Filter imaging dataset for subjects having all clinical variables"
   ],
   "metadata": {
    "collapsed": false
   }
  },
  {
   "cell_type": "code",
   "execution_count": 4,
   "outputs": [],
   "source": [
    "data_with_imaging_path = '/Users/jk1/OneDrive - unige.ch/stroke_research/geneva_stroke_dataset/clinical_data/multi_annual_joined_data/scope_joined_variables/onset_prediction/with_imaging_curated_completed_joined_anon_outcome_df.xlsx'\n",
    "data_with_imaging = pd.read_excel(data_with_imaging_path)"
   ],
   "metadata": {
    "collapsed": false,
    "pycharm": {
     "name": "#%%\n"
    }
   }
  },
  {
   "cell_type": "code",
   "execution_count": 6,
   "outputs": [
    {
     "name": "stdout",
     "output_type": "stream",
     "text": [
      "Loading a total of 144 subjects.\n",
      "Sequences used: {'ct_sequences': ['wcoreg_Tmax', 'wcoreg_CBF', 'wcoreg_MTT', 'wcoreg_CBV', 'wreor_SPC_301mm_Std'], 'ct_label_sequences': ['masked_wcoreg_VOI'], 'mri_sequences': [], 'mri_label_sequences': []}\n",
      "0 subjects had been excluded.\n",
      "subj-5ca2adc0 not found in clinical database. Will be removed.\n",
      "subj-848a19b9 not found in clinical database. Will be removed.\n",
      "subj-a84863e6 not found in clinical database. Will be removed.\n",
      "subj-dcdfb2af not found in clinical database. Will be removed.\n",
      "subj-e65bbcbe not found in clinical database. Will be removed.\n",
      "subj-3e0e8660 not found in clinical database. Will be removed.\n",
      "Saving a total of 138 subjects.\n"
     ]
    }
   ],
   "source": [
    "filter_for_clinical_param(imaging_dataset_path, data_with_imaging_path, 'onset_to_imaging','pid')"
   ],
   "metadata": {
    "collapsed": false,
    "pycharm": {
     "name": "#%%\n"
    }
   }
  },
  {
   "cell_type": "markdown",
   "source": [
    "## Binarize onset variable"
   ],
   "metadata": {
    "collapsed": false,
    "pycharm": {
     "name": "#%% md\n"
    }
   }
  },
  {
   "cell_type": "code",
   "execution_count": 11,
   "outputs": [],
   "source": [
    "data_with_imaging_path = '/Users/jk1/OneDrive - unige.ch/stroke_research/geneva_stroke_dataset/clinical_data/multi_annual_joined_data/scope_joined_variables/onset_prediction/with_imaging_curated_completed_joined_anon_outcome_df.xlsx'\n",
    "data_with_imaging = pd.read_excel(data_with_imaging_path)"
   ],
   "metadata": {
    "collapsed": false,
    "pycharm": {
     "name": "#%%\n"
    }
   }
  },
  {
   "cell_type": "code",
   "execution_count": 12,
   "outputs": [],
   "source": [
    "data_with_imaging['onset_to_imaging_0-4.5'] = (data_with_imaging['onset_to_imaging'] > (4.5*60)).astype(int)"
   ],
   "metadata": {
    "collapsed": false,
    "pycharm": {
     "name": "#%%\n"
    }
   }
  },
  {
   "cell_type": "code",
   "execution_count": 13,
   "outputs": [],
   "source": [
    "data_with_imaging.to_excel(data_with_imaging_path)"
   ],
   "metadata": {
    "collapsed": false,
    "pycharm": {
     "name": "#%%\n"
    }
   }
  },
  {
   "cell_type": "code",
   "execution_count": 13,
   "outputs": [
    {
     "data": {
      "text/plain": "0.0    104\n1.0     87\nName: IAT, dtype: int64"
     },
     "execution_count": 13,
     "metadata": {},
     "output_type": "execute_result"
    }
   ],
   "source": [
    "data_with_imaging['IAT'].value_counts()"
   ],
   "metadata": {
    "collapsed": false,
    "pycharm": {
     "name": "#%%\n"
    }
   }
  },
  {
   "cell_type": "code",
   "execution_count": 14,
   "outputs": [
    {
     "data": {
      "text/plain": "0.0    159\n1.0     33\nName: IVT with rtPA, dtype: int64"
     },
     "execution_count": 14,
     "metadata": {},
     "output_type": "execute_result"
    }
   ],
   "source": [
    "data_with_imaging['IVT with rtPA'].value_counts()"
   ],
   "metadata": {
    "collapsed": false,
    "pycharm": {
     "name": "#%%\n"
    }
   }
  },
  {
   "cell_type": "code",
   "execution_count": 15,
   "outputs": [
    {
     "data": {
      "text/plain": "104"
     },
     "execution_count": 15,
     "metadata": {},
     "output_type": "execute_result"
    }
   ],
   "source": [
    "len(data_with_imaging[(data_with_imaging['IVT with rtPA'] == 0) & (data_with_imaging['IAT'] == 0)])"
   ],
   "metadata": {
    "collapsed": false,
    "pycharm": {
     "name": "#%%\n"
    }
   }
  },
  {
   "cell_type": "code",
   "execution_count": null,
   "outputs": [],
   "source": [],
   "metadata": {
    "collapsed": false,
    "pycharm": {
     "name": "#%%\n"
    }
   }
  }
 ],
 "metadata": {
  "kernelspec": {
   "display_name": "Python 3",
   "language": "python",
   "name": "python3"
  },
  "language_info": {
   "codemirror_mode": {
    "name": "ipython",
    "version": 2
   },
   "file_extension": ".py",
   "mimetype": "text/x-python",
   "name": "python",
   "nbconvert_exporter": "python",
   "pygments_lexer": "ipython2",
   "version": "2.7.6"
  }
 },
 "nbformat": 4,
 "nbformat_minor": 0
}