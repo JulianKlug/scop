{
 "cells": [
  {
   "cell_type": "code",
   "execution_count": 86,
   "metadata": {
    "collapsed": true
   },
   "outputs": [],
   "source": [
    "import numpy as np\n",
    "import pandas as pd\n",
    "from gsprep.visual_tools.visual import idisplay, display\n",
    "from scipy import ndimage"
   ]
  },
  {
   "cell_type": "markdown",
   "source": [
    "# Creating a baseline estimator for onset prediction based on non-contrast and perfusion CT using lesion water uptake\n",
    "\n",
    "ischemic core defined on perfusion -> measure ischemic core lesion density (Dischemic) in NCCT\n",
    "-> then measure symetry in normal tissue of the contralateral hemisphere (Dnormal).\n",
    "ROIs were segmented with semi-automatic edge detection and sampled between 20 and 80 HU.\n",
    "\n",
    "%water uptake = (1 − (Dischemic / Dnormal) × 100"
   ],
   "metadata": {
    "collapsed": false,
    "pycharm": {
     "name": "#%% md\n"
    }
   }
  },
  {
   "cell_type": "code",
   "execution_count": 87,
   "outputs": [],
   "source": [
    "imaging_dataset_path = '/Users/jk1/stroke_datasets/dataset_files/perfusion_data_sets/temp_split_datasets/train_with_ncct_dataset_with_onset_to_imaging_with_core_with_penumbra.npz'\n",
    "label_file_path = '/Users/jk1/OneDrive - unige.ch/stroke_research/geneva_stroke_dataset/clinical_data/multi_annual_joined_data/scope_joined_variables/onset_prediction/with_imaging_curated_completed_joined_anon_outcome_df.xlsx'\n",
    "\n",
    "id_variable = 'pid'\n",
    "outcome = 'onset_to_imaging'\n",
    "channels = [0,1,2,3,4,5,6]"
   ],
   "metadata": {
    "collapsed": false,
    "pycharm": {
     "name": "#%%\n"
    }
   }
  },
  {
   "cell_type": "code",
   "execution_count": 88,
   "outputs": [],
   "source": [
    "ids = np.load(imaging_dataset_path, allow_pickle=True)['ids']\n",
    "\n",
    "outcomes_df = pd.read_excel(label_file_path)\n",
    "labels = np.array([outcomes_df.loc[outcomes_df[id_variable] == subj_id, outcome].iloc[0] for\n",
    "                   subj_id in ids])\n",
    "\n",
    "raw_images = np.load(imaging_dataset_path, allow_pickle=True)['ct_inputs'][..., channels]\n",
    "\n",
    "if raw_images.ndim < 5:\n",
    "    raw_images = np.expand_dims(raw_images, axis=-1)\n",
    "\n",
    "# Apply masks\n",
    "raw_masks = np.load(imaging_dataset_path, allow_pickle=True)['brain_masks']\n",
    "raw_masks = np.expand_dims(raw_masks, axis=-1)\n",
    "images = raw_images * raw_masks"
   ],
   "metadata": {
    "collapsed": false,
    "pycharm": {
     "name": "#%%\n"
    }
   }
  },
  {
   "cell_type": "code",
   "execution_count": 89,
   "outputs": [],
   "source": [
    "n_subj = len(ids)\n",
    "rCBF_over_threshold = images[..., 5]\n",
    "penumbra = images[..., 6]\n",
    "ncct = images[..., 4]\n",
    "\n",
    "strict_core = rCBF_over_threshold * penumbra"
   ],
   "metadata": {
    "collapsed": false,
    "pycharm": {
     "name": "#%%\n"
    }
   }
  },
  {
   "cell_type": "code",
   "execution_count": 90,
   "outputs": [],
   "source": [
    "from skimage.measure import label\n",
    "\n",
    "def getLargestCC(segmentation):\n",
    "    labels = label(segmentation)\n",
    "    largestCC = labels == np.argmax(np.bincount(labels.flat, weights=segmentation.flat))\n",
    "    return largestCC"
   ],
   "metadata": {
    "collapsed": false,
    "pycharm": {
     "name": "#%%\n"
    }
   }
  },
  {
   "cell_type": "markdown",
   "source": [
    "Retain only largest connected component"
   ],
   "metadata": {
    "collapsed": false,
    "pycharm": {
     "name": "#%% md\n"
    }
   }
  },
  {
   "cell_type": "code",
   "execution_count": 91,
   "outputs": [],
   "source": [
    "cc_limited_core = [getLargestCC(strict_core[i]) for i in range(n_subj)]"
   ],
   "metadata": {
    "collapsed": false,
    "pycharm": {
     "name": "#%%\n"
    }
   }
  },
  {
   "cell_type": "markdown",
   "source": [
    "Limit core to only one half of the brain"
   ],
   "metadata": {
    "collapsed": false,
    "pycharm": {
     "name": "#%% md\n"
    }
   }
  },
  {
   "cell_type": "code",
   "execution_count": 92,
   "outputs": [],
   "source": [
    "image_half = int(images.shape[1] / 2)\n",
    "left_half_filter = np.zeros(images.shape[1:-1])\n",
    "right_half_filter = np.zeros(images.shape[1:-1])\n",
    "right_half_filter[0:image_half] = 1\n",
    "left_half_filter[image_half:] = 1\n",
    "x_center_of_mass = [ndimage.measurements.center_of_mass(strict_core[i])[0] for i in range(n_subj)]"
   ],
   "metadata": {
    "collapsed": false,
    "pycharm": {
     "name": "#%%\n"
    }
   }
  },
  {
   "cell_type": "code",
   "execution_count": 93,
   "outputs": [],
   "source": [
    "laterally_limited_core = np.copy(strict_core)\n",
    "for i in range(n_subj):\n",
    "    # if center of core is on the left side of the image\n",
    "    if x_center_of_mass[i] < image_half:\n",
    "        laterally_limited_core[i] *= right_half_filter\n",
    "    # if center of core is on the right side of the image\n",
    "    else:\n",
    "        laterally_limited_core[i] *= left_half_filter\n",
    "\n"
   ],
   "metadata": {
    "collapsed": false,
    "pycharm": {
     "name": "#%%\n"
    }
   }
  },
  {
   "cell_type": "code",
   "execution_count": 94,
   "outputs": [],
   "source": [
    "mirrored_laterally_limited_core_mask = np.flip(laterally_limited_core, axis=1)\n",
    "\n"
   ],
   "metadata": {
    "collapsed": false,
    "pycharm": {
     "name": "#%%\n"
    }
   }
  },
  {
   "cell_type": "code",
   "execution_count": 95,
   "outputs": [],
   "source": [
    "temp = ncct[0][np.nonzero(laterally_limited_core[0])]"
   ],
   "metadata": {
    "collapsed": false,
    "pycharm": {
     "name": "#%%\n"
    }
   }
  },
  {
   "cell_type": "code",
   "execution_count": 96,
   "outputs": [],
   "source": [
    "mean_ischemic_density = [np.mean(ncct[i][np.nonzero(laterally_limited_core[i])])\n",
    "                                 for i in range(n_subj)]\n",
    "\n",
    "mean_non_ischemic_density = [np.mean(ncct[i][np.nonzero(mirrored_laterally_limited_core_mask[i])])\n",
    "                                 for i in range(n_subj)]"
   ],
   "metadata": {
    "collapsed": false,
    "pycharm": {
     "name": "#%%\n"
    }
   }
  },
  {
   "cell_type": "code",
   "execution_count": 97,
   "outputs": [],
   "source": [
    "water_uptake = (1 - np.divide(mean_ischemic_density, mean_non_ischemic_density)) * 100"
   ],
   "metadata": {
    "collapsed": false,
    "pycharm": {
     "name": "#%%\n"
    }
   }
  },
  {
   "cell_type": "code",
   "execution_count": 98,
   "outputs": [
    {
     "data": {
      "text/plain": "<seaborn.axisgrid.FacetGrid at 0x7fcc22543e80>"
     },
     "execution_count": 98,
     "metadata": {},
     "output_type": "execute_result"
    },
    {
     "data": {
      "text/plain": "<Figure size 360x360 with 1 Axes>",
      "image/png": "[encoded data removed]"
     },
     "metadata": {
      "needs_background": "light"
     },
     "output_type": "display_data"
    }
   ],
   "source": [
    "import seaborn as sns\n",
    "\n",
    "sns.relplot(x=water_uptake, y=labels)"
   ],
   "metadata": {
    "collapsed": false,
    "pycharm": {
     "name": "#%%\n"
    }
   }
  },
  {
   "cell_type": "code",
   "execution_count": 99,
   "outputs": [
    {
     "data": {
      "text/plain": "0.6884531590413943"
     },
     "execution_count": 99,
     "metadata": {},
     "output_type": "execute_result"
    }
   ],
   "source": [
    "from sklearn import metrics\n",
    "\n",
    "binary_labels = labels > 4.5*60\n",
    "\n",
    "metrics.roc_auc_score(binary_labels, water_uptake)"
   ],
   "metadata": {
    "collapsed": false,
    "pycharm": {
     "name": "#%%\n"
    }
   }
  },
  {
   "cell_type": "code",
   "execution_count": 99,
   "outputs": [],
   "source": [],
   "metadata": {
    "collapsed": false,
    "pycharm": {
     "name": "#%%\n"
    }
   }
  }
 ],
 "metadata": {
  "kernelspec": {
   "display_name": "Python 3",
   "language": "python",
   "name": "python3"
  },
  "language_info": {
   "codemirror_mode": {
    "name": "ipython",
    "version": 2
   },
   "file_extension": ".py",
   "mimetype": "text/x-python",
   "name": "python",
   "nbconvert_exporter": "python",
   "pygments_lexer": "ipython2",
   "version": "2.7.6"
  }
 },
 "nbformat": 4,
 "nbformat_minor": 0
}