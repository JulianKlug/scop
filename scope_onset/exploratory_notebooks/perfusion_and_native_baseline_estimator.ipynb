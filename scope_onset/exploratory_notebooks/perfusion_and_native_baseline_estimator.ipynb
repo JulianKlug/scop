{
 "cells": [
  {
   "cell_type": "code",
   "execution_count": 55,
   "metadata": {
    "collapsed": true
   },
   "outputs": [],
   "source": [
    "import numpy as np\n",
    "import pandas as pd\n",
    "from gsprep.visual_tools.visual import idisplay, display\n",
    "from scipy import ndimage\n",
    "import seaborn as sns\n",
    "from sklearn import metrics\n",
    "import nibabel as nib\n",
    "import os"
   ]
  },
  {
   "cell_type": "markdown",
   "source": [
    "# Creating a baseline estimator for onset prediction based on non-contrast and perfusion CT using lesion water uptake\n",
    "\n",
    "ischemic core defined on perfusion -> measure ischemic core lesion density (Dischemic) in NCCT\n",
    "-> then measure symetry in normal tissue of the contralateral hemisphere (Dnormal).\n",
    "ROIs were segmented with semi-automatic edge detection and sampled between 20 and 80 HU.\n",
    "\n",
    "%water uptake = (1 − (Dischemic / Dnormal) × 100"
   ],
   "metadata": {
    "collapsed": false,
    "pycharm": {
     "name": "#%% md\n"
    }
   }
  },
  {
   "cell_type": "code",
   "execution_count": 32,
   "outputs": [],
   "source": [
    "imaging_dataset_path = '/Users/jk1/stroke_datasets/dataset_files/perfusion_data_sets/temp_split_datasets/train_with_ncct_dataset_with_onset_to_imaging_with_core_with_penumbra.npz'\n",
    "label_file_path = '/Users/jk1/OneDrive - unige.ch/stroke_research/geneva_stroke_dataset/clinical_data/multi_annual_joined_data/scope_joined_variables/onset_prediction/with_imaging_curated_completed_joined_anon_outcome_df.xlsx'\n",
    "\n",
    "id_variable = 'pid'\n",
    "outcome = 'onset_to_imaging'\n",
    "channels = [0,1,2,3,4,5,6]\n",
    "apply_csf_mask = False"
   ],
   "metadata": {
    "collapsed": false,
    "pycharm": {
     "name": "#%%\n"
    }
   }
  },
  {
   "cell_type": "code",
   "execution_count": 33,
   "outputs": [],
   "source": [
    "ids = np.load(imaging_dataset_path, allow_pickle=True)['ids']\n",
    "\n",
    "outcomes_df = pd.read_excel(label_file_path)\n",
    "labels = np.array([outcomes_df.loc[outcomes_df[id_variable] == subj_id, outcome].iloc[0] for\n",
    "                   subj_id in ids])\n",
    "\n",
    "raw_images = np.load(imaging_dataset_path, allow_pickle=True)['ct_inputs'][..., channels]\n",
    "\n",
    "if raw_images.ndim < 5:\n",
    "    raw_images = np.expand_dims(raw_images, axis=-1)\n",
    "\n",
    "# Apply masks\n",
    "raw_masks = np.load(imaging_dataset_path, allow_pickle=True)['brain_masks']\n",
    "raw_masks = np.expand_dims(raw_masks, axis=-1)\n",
    "images = raw_images * raw_masks"
   ],
   "metadata": {
    "collapsed": false,
    "pycharm": {
     "name": "#%%\n"
    }
   }
  },
  {
   "cell_type": "code",
   "execution_count": 34,
   "outputs": [],
   "source": [
    "n_subj = len(ids)\n",
    "rCBF_over_threshold = images[..., 5]\n",
    "penumbra = images[..., 6]\n",
    "ncct = images[..., 4]\n",
    "\n",
    "strict_core = rCBF_over_threshold * penumbra"
   ],
   "metadata": {
    "collapsed": false,
    "pycharm": {
     "name": "#%%\n"
    }
   }
  },
  {
   "cell_type": "code",
   "execution_count": 35,
   "outputs": [],
   "source": [
    "from skimage.measure import label\n",
    "\n",
    "def getLargestCC(segmentation):\n",
    "    labels = label(segmentation)\n",
    "    largestCC = labels == np.argmax(np.bincount(labels.flat, weights=segmentation.flat))\n",
    "    return largestCC"
   ],
   "metadata": {
    "collapsed": false,
    "pycharm": {
     "name": "#%%\n"
    }
   }
  },
  {
   "cell_type": "markdown",
   "source": [
    "Retain only largest connected component"
   ],
   "metadata": {
    "collapsed": false,
    "pycharm": {
     "name": "#%% md\n"
    }
   }
  },
  {
   "cell_type": "code",
   "execution_count": 36,
   "outputs": [],
   "source": [
    "cc_limited_core = [getLargestCC(strict_core[i]) for i in range(n_subj)]"
   ],
   "metadata": {
    "collapsed": false,
    "pycharm": {
     "name": "#%%\n"
    }
   }
  },
  {
   "cell_type": "markdown",
   "source": [
    "Limit core to only one half of the brain"
   ],
   "metadata": {
    "collapsed": false,
    "pycharm": {
     "name": "#%% md\n"
    }
   }
  },
  {
   "cell_type": "code",
   "execution_count": 37,
   "outputs": [],
   "source": [
    "image_half = int(images.shape[1] / 2)\n",
    "left_half_filter = np.zeros(images.shape[1:-1])\n",
    "right_half_filter = np.zeros(images.shape[1:-1])\n",
    "right_half_filter[0:image_half] = 1\n",
    "left_half_filter[image_half:] = 1\n",
    "x_center_of_mass = [ndimage.measurements.center_of_mass(strict_core[i])[0] for i in range(n_subj)]"
   ],
   "metadata": {
    "collapsed": false,
    "pycharm": {
     "name": "#%%\n"
    }
   }
  },
  {
   "cell_type": "code",
   "execution_count": 38,
   "outputs": [],
   "source": [
    "laterally_limited_core = np.copy(strict_core)\n",
    "for i in range(n_subj):\n",
    "    # if center of core is on the left side of the image\n",
    "    if x_center_of_mass[i] < image_half:\n",
    "        laterally_limited_core[i] *= right_half_filter\n",
    "    # if center of core is on the right side of the image\n",
    "    else:\n",
    "        laterally_limited_core[i] *= left_half_filter\n",
    "\n"
   ],
   "metadata": {
    "collapsed": false,
    "pycharm": {
     "name": "#%%\n"
    }
   }
  },
  {
   "cell_type": "code",
   "execution_count": 39,
   "outputs": [],
   "source": [
    "mirrored_laterally_limited_core_mask = np.flip(laterally_limited_core, axis=1)\n",
    "\n"
   ],
   "metadata": {
    "collapsed": false,
    "pycharm": {
     "name": "#%%\n"
    }
   }
  },
  {
   "cell_type": "code",
   "execution_count": 40,
   "outputs": [],
   "source": [
    "from gsd_pipeline.dataset_tools.add_core_map import dilation_structure_2d\n",
    "from gsprep.utils.smoothing import gaussian_smoothing\n",
    "\n",
    "dilation_structure = dilation_structure_2d\n",
    "\n",
    "# Create CSF mask\n",
    "low_bounded_ncct = ncct[ncct > 0]\n",
    "up_and_low_bounded_ncct = low_bounded_ncct[low_bounded_ncct < 100]\n",
    "# threshold = 20\n",
    "threshold = np.percentile(up_and_low_bounded_ncct, 5)\n",
    "csf_mask = gaussian_smoothing(ncct[..., None], kernel_width=3) < threshold\n",
    "enlarged_csf_mask = np.array(\n",
    "    [ndimage.binary_dilation(csf_mask[idx, ..., 0], structure=dilation_structure(1)) for idx in range(csf_mask.shape[0])])\n",
    "inv_csf_mask = -1 * enlarged_csf_mask + 1"
   ],
   "metadata": {
    "collapsed": false,
    "pycharm": {
     "name": "#%%\n"
    }
   }
  },
  {
   "cell_type": "code",
   "execution_count": 41,
   "outputs": [],
   "source": [
    "if apply_csf_mask:\n",
    "    laterally_limited_core = laterally_limited_core * inv_csf_mask\n",
    "    mirrored_laterally_limited_core_mask = mirrored_laterally_limited_core_mask * inv_csf_mask\n"
   ],
   "metadata": {
    "collapsed": false,
    "pycharm": {
     "name": "#%%\n"
    }
   }
  },
  {
   "cell_type": "code",
   "execution_count": 42,
   "outputs": [],
   "source": [
    "mean_ischemic_density = [np.mean(ncct[i][np.nonzero(laterally_limited_core[i])])\n",
    "                                 for i in range(n_subj)]\n",
    "\n",
    "mean_non_ischemic_density = [np.mean(ncct[i][np.nonzero(mirrored_laterally_limited_core_mask[i])])\n",
    "                                 for i in range(n_subj)]"
   ],
   "metadata": {
    "collapsed": false,
    "pycharm": {
     "name": "#%%\n"
    }
   }
  },
  {
   "cell_type": "code",
   "execution_count": 43,
   "outputs": [],
   "source": [
    "water_uptake = (1 - np.divide(mean_ischemic_density, mean_non_ischemic_density)) * 100"
   ],
   "metadata": {
    "collapsed": false,
    "pycharm": {
     "name": "#%%\n"
    }
   }
  },
  {
   "cell_type": "code",
   "execution_count": 44,
   "outputs": [
    {
     "data": {
      "text/plain": "<seaborn.axisgrid.FacetGrid at 0x7fd24ace4760>"
     },
     "execution_count": 44,
     "metadata": {},
     "output_type": "execute_result"
    },
    {
     "data": {
      "text/plain": "<Figure size 360x360 with 1 Axes>",
      "image/png": "[encoded data removed]"
     },
     "metadata": {
      "needs_background": "light"
     },
     "output_type": "display_data"
    }
   ],
   "source": [
    "\n",
    "sns.relplot(x=labels, y=water_uptake)"
   ],
   "metadata": {
    "collapsed": false,
    "pycharm": {
     "name": "#%%\n"
    }
   }
  },
  {
   "cell_type": "code",
   "execution_count": 45,
   "outputs": [
    {
     "data": {
      "text/plain": "0.6884531590413943"
     },
     "execution_count": 45,
     "metadata": {},
     "output_type": "execute_result"
    }
   ],
   "source": [
    "\n",
    "binary_labels = labels > 4.5*60\n",
    "\n",
    "metrics.roc_auc_score(binary_labels, water_uptake)"
   ],
   "metadata": {
    "collapsed": false,
    "pycharm": {
     "name": "#%%\n"
    }
   }
  },
  {
   "cell_type": "code",
   "execution_count": 46,
   "outputs": [],
   "source": [
    "df = pd.DataFrame(zip(labels, binary_labels, mean_ischemic_density, mean_non_ischemic_density, water_uptake),\n",
    "                  columns=['onset_to_imaging', 'binary_labels', 'mean_ischemic_density', 'mean_non_ischemic_density', 'water_uptake'])"
   ],
   "metadata": {
    "collapsed": false,
    "pycharm": {
     "name": "#%%\n"
    }
   }
  },
  {
   "cell_type": "code",
   "execution_count": 47,
   "outputs": [
    {
     "data": {
      "text/plain": "count    69.000000\nmean     32.986171\nstd       3.837835\nmin      17.726702\n25%      31.662162\n50%      33.648066\n75%      35.135079\nmax      41.416667\nName: mean_ischemic_density, dtype: float64"
     },
     "execution_count": 47,
     "metadata": {},
     "output_type": "execute_result"
    }
   ],
   "source": [
    "df['mean_ischemic_density'].describe()"
   ],
   "metadata": {
    "collapsed": false,
    "pycharm": {
     "name": "#%%\n"
    }
   }
  },
  {
   "cell_type": "code",
   "execution_count": 48,
   "outputs": [
    {
     "data": {
      "text/plain": "count    69.000000\nmean     34.200159\nstd       3.640036\nmin      18.471204\n25%      32.638774\n50%      34.931787\n75%      36.353945\nmax      40.121899\nName: mean_non_ischemic_density, dtype: float64"
     },
     "execution_count": 48,
     "metadata": {},
     "output_type": "execute_result"
    }
   ],
   "source": [
    "df['mean_non_ischemic_density'].describe()"
   ],
   "metadata": {
    "collapsed": false,
    "pycharm": {
     "name": "#%%\n"
    }
   }
  },
  {
   "cell_type": "code",
   "execution_count": 49,
   "outputs": [
    {
     "name": "stdout",
     "output_type": "stream",
     "text": [
      "count    51.000000\n",
      "mean     33.670339\n",
      "std       2.739012\n",
      "min      24.324895\n",
      "25%      32.454099\n",
      "50%      34.060769\n",
      "75%      35.177248\n",
      "max      41.416667\n",
      "Name: mean_ischemic_density, dtype: float64\n",
      "count    51.000000\n",
      "mean     34.637097\n",
      "std       2.885054\n",
      "min      25.548523\n",
      "25%      33.314710\n",
      "50%      35.093702\n",
      "75%      36.464875\n",
      "max      40.121899\n",
      "Name: mean_non_ischemic_density, dtype: float64\n",
      "count    51.000000\n",
      "mean      2.668108\n",
      "std       4.612274\n",
      "min     -18.899522\n",
      "25%       1.250078\n",
      "50%       2.286566\n",
      "75%       4.690348\n",
      "max      15.171483\n",
      "Name: water_uptake, dtype: float64\n"
     ]
    }
   ],
   "source": [
    "print(df[df['binary_labels'] == 0]['mean_ischemic_density'].describe())\n",
    "print(df[df['binary_labels'] == 0]['mean_non_ischemic_density'].describe())\n",
    "print(df[df['binary_labels'] == 0]['water_uptake'].describe())"
   ],
   "metadata": {
    "collapsed": false,
    "pycharm": {
     "name": "#%%\n"
    }
   }
  },
  {
   "cell_type": "code",
   "execution_count": 31,
   "outputs": [
    {
     "name": "stdout",
     "output_type": "stream",
     "text": [
      "count    18.000000\n",
      "mean     34.132528\n",
      "std       2.699602\n",
      "min      29.728205\n",
      "25%      32.459153\n",
      "50%      34.344683\n",
      "75%      35.190118\n",
      "max      42.113990\n",
      "Name: mean_ischemic_density, dtype: float64\n",
      "count    18.000000\n",
      "mean     35.935497\n",
      "std       2.399020\n",
      "min      31.326923\n",
      "25%      34.067822\n",
      "50%      36.352852\n",
      "75%      36.992363\n",
      "max      40.702684\n",
      "Name: mean_non_ischemic_density, dtype: float64\n",
      "count    18.000000\n",
      "mean      4.890576\n",
      "std       6.454923\n",
      "min     -16.854610\n",
      "25%       4.080240\n",
      "50%       5.159741\n",
      "75%       8.176611\n",
      "max      16.412829\n",
      "Name: water_uptake, dtype: float64\n"
     ]
    }
   ],
   "source": [
    "print(df[df['binary_labels'] == 1]['mean_ischemic_density'].describe())\n",
    "print(df[df['binary_labels'] == 1]['mean_non_ischemic_density'].describe())\n",
    "print(df[df['binary_labels'] == 1]['water_uptake'].describe())"
   ],
   "metadata": {
    "collapsed": false,
    "pycharm": {
     "name": "#%%\n"
    }
   }
  },
  {
   "cell_type": "code",
   "execution_count": 63,
   "outputs": [
    {
     "data": {
      "text/plain": "'subj-5af90b8b'"
     },
     "execution_count": 63,
     "metadata": {},
     "output_type": "execute_result"
    }
   ],
   "source": [
    "subj_id = 57\n",
    "ids[subj_id]"
   ],
   "metadata": {
    "collapsed": false,
    "pycharm": {
     "name": "#%%\n"
    }
   }
  },
  {
   "cell_type": "code",
   "execution_count": 64,
   "outputs": [
    {
     "data": {
      "text/plain": "39.27105263157895"
     },
     "execution_count": 64,
     "metadata": {},
     "output_type": "execute_result"
    }
   ],
   "source": [
    "mean_ischemic_density[subj_id]"
   ],
   "metadata": {
    "collapsed": false,
    "pycharm": {
     "name": "#%%\n"
    }
   }
  },
  {
   "cell_type": "code",
   "execution_count": 65,
   "outputs": [
    {
     "data": {
      "text/plain": "30.45263157894737"
     },
     "execution_count": 65,
     "metadata": {},
     "output_type": "execute_result"
    }
   ],
   "source": [
    "mean_non_ischemic_density[subj_id]"
   ],
   "metadata": {
    "collapsed": false,
    "pycharm": {
     "name": "#%%\n"
    }
   }
  },
  {
   "cell_type": "code",
   "execution_count": 66,
   "outputs": [
    {
     "data": {
      "text/plain": "-28.957829243000344"
     },
     "execution_count": 66,
     "metadata": {},
     "output_type": "execute_result"
    }
   ],
   "source": [
    "water_uptake[subj_id]"
   ],
   "metadata": {
    "collapsed": false,
    "pycharm": {
     "name": "#%%\n"
    }
   }
  },
  {
   "cell_type": "code",
   "execution_count": 67,
   "outputs": [
    {
     "data": {
      "text/plain": "10.233333333337214"
     },
     "execution_count": 67,
     "metadata": {},
     "output_type": "execute_result"
    }
   ],
   "source": [
    "labels[subj_id]/60"
   ],
   "metadata": {
    "collapsed": false,
    "pycharm": {
     "name": "#%%\n"
    }
   }
  },
  {
   "cell_type": "code",
   "execution_count": 68,
   "outputs": [],
   "source": [
    "output_dir = '/Users/jk1/temp/scope_onset_exploration'\n",
    "\n",
    "ncct_img = nib.Nifti1Image(ncct[subj_id], np.eye(4))\n",
    "nib.save(ncct_img, os.path.join(output_dir, f'{ids[subj_id]}_ncct.nii'))\n",
    "\n",
    "lesion_img = nib.Nifti1Image(laterally_limited_core[subj_id], np.eye(4))\n",
    "nib.save(lesion_img, os.path.join(output_dir, f'{ids[subj_id]}_lesion.nii'))\n",
    "\n",
    "mirrored_lesion_img = nib.Nifti1Image(mirrored_laterally_limited_core_mask[subj_id], np.eye(4))\n",
    "nib.save(mirrored_lesion_img, os.path.join(output_dir, f'{ids[subj_id]}_mirrored_lesion.nii'))\n",
    "\n",
    "csf_img = nib.Nifti1Image(enlarged_csf_mask[subj_id].astype(int), np.eye(4))\n",
    "nib.save(csf_img, os.path.join(output_dir, f'{ids[subj_id]}_csf.nii'))"
   ],
   "metadata": {
    "collapsed": false,
    "pycharm": {
     "name": "#%%\n"
    }
   }
  },
  {
   "cell_type": "code",
   "execution_count": null,
   "outputs": [],
   "source": [],
   "metadata": {
    "collapsed": false,
    "pycharm": {
     "name": "#%%\n"
    }
   }
  }
 ],
 "metadata": {
  "kernelspec": {
   "display_name": "Python 3",
   "language": "python",
   "name": "python3"
  },
  "language_info": {
   "codemirror_mode": {
    "name": "ipython",
    "version": 2
   },
   "file_extension": ".py",
   "mimetype": "text/x-python",
   "name": "python",
   "nbconvert_exporter": "python",
   "pygments_lexer": "ipython2",
   "version": "2.7.6"
  }
 },
 "nbformat": 4,
 "nbformat_minor": 0
}