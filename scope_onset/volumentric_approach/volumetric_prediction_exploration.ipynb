{
 "cells": [
  {
   "cell_type": "code",
   "execution_count": 1,
   "metadata": {
    "collapsed": true
   },
   "outputs": [],
   "source": [
    "import pandas as pd\n",
    "import numpy as np\n",
    "from sklearn import metrics\n",
    "from sklearn.linear_model import LogisticRegression, LinearRegression\n",
    "from sklearn.pipeline import make_pipeline\n",
    "from sklearn import svm, preprocessing\n",
    "from sklearn.model_selection import cross_validate,cross_val_predict"
   ]
  },
  {
   "cell_type": "code",
   "execution_count": 2,
   "outputs": [],
   "source": [
    "data_path = '/Users/jk1/OneDrive - unige.ch/stroke_research/geneva_stroke_dataset/volumetric_perfusion_data/onset_scope/curated_onset_known_volumetric_data.xlsx'"
   ],
   "metadata": {
    "collapsed": false,
    "pycharm": {
     "name": "#%%\n"
    }
   }
  },
  {
   "cell_type": "code",
   "execution_count": 3,
   "outputs": [],
   "source": [
    "data_df = pd.read_excel(data_path)"
   ],
   "metadata": {
    "collapsed": false,
    "pycharm": {
     "name": "#%%\n"
    }
   }
  },
  {
   "cell_type": "code",
   "execution_count": 4,
   "outputs": [],
   "source": [
    "clinical_covars_names = ['Age (calc.)'\t,'Sex',\t'Referral'\t,'Prestroke disability (Rankin)'\t,'NIH on admission'\t,'Antiplatelet drugs'\t,'Anticoagulants',\t'MedHist Stroke'\t,'MedHist TIA',\t'MedHist ICH',\t'MedHist Hypertension',\t'MedHist Diabetes', 'MedHist Hyperlipidemia', 'MedHist Smoking', 'MedHist Atrial Fibr.']\n",
    "volumetric_covars_names = ['CBF', 'T10', 'T8', 'T6', 'T4']"
   ],
   "metadata": {
    "collapsed": false,
    "pycharm": {
     "name": "#%%\n"
    }
   }
  },
  {
   "cell_type": "code",
   "execution_count": 5,
   "outputs": [],
   "source": [
    "outcome = data_df['TimeOnsetCT']\n",
    "volumetric_covars = data_df[volumetric_covars_names]\n",
    "clinical_covars = data_df[clinical_covars_names]\n",
    "all_covars = data_df[(volumetric_covars_names + clinical_covars_names)]"
   ],
   "metadata": {
    "collapsed": false,
    "pycharm": {
     "name": "#%%\n"
    }
   }
  },
  {
   "cell_type": "code",
   "execution_count": 23,
   "outputs": [
    {
     "data": {
      "text/plain": "True     347\nFalse     43\nName: TimeOnsetCT, dtype: int64"
     },
     "execution_count": 23,
     "metadata": {},
     "output_type": "execute_result"
    }
   ],
   "source": [
    "binarised_outcome = outcome < (4.5 * 60)\n",
    "binarised_outcome.value_counts()"
   ],
   "metadata": {
    "collapsed": false,
    "pycharm": {
     "name": "#%%\n"
    }
   }
  },
  {
   "cell_type": "markdown",
   "source": [
    "## Framing as continuous problem"
   ],
   "metadata": {
    "collapsed": false,
    "pycharm": {
     "name": "#%% md\n"
    }
   }
  },
  {
   "cell_type": "code",
   "execution_count": 7,
   "outputs": [],
   "source": [
    "continuous_results_columns = ['method', 'covar selection', 'covars', 'mean_absolute_error', 'binarised_auc', 'binarised_accuracy']\n",
    "continuous_results_df = pd.DataFrame(columns=continuous_results_columns)"
   ],
   "metadata": {
    "collapsed": false,
    "pycharm": {
     "name": "#%%\n"
    }
   }
  },
  {
   "cell_type": "code",
   "execution_count": 8,
   "outputs": [],
   "source": [
    "def evaluate_continuous_model(model, model_name=None):\n",
    "    if model_name is None:\n",
    "        model_name = model.__class__.__name__\n",
    "    volumetric_cv_results = cross_validate(model, volumetric_covars, outcome, cv=5, scoring=('neg_mean_absolute_error', 'neg_mean_absolute_percentage_error'))\n",
    "    volumetric_cv_predictions = cross_val_predict(model, volumetric_covars, outcome, cv=5)\n",
    "    volumetric_binarised_cv_predictions = volumetric_cv_predictions < (4.5 * 60)\n",
    "\n",
    "    volumetric_result_df = pd.DataFrame([[model_name, 'volumetric', volumetric_covars_names,\n",
    "                                  abs(volumetric_cv_results['test_neg_mean_absolute_error']).mean(),\n",
    "                                  metrics.roc_auc_score(binarised_outcome, volumetric_binarised_cv_predictions),\n",
    "                                  metrics.accuracy_score(binarised_outcome, volumetric_binarised_cv_predictions)\n",
    "                                  ]], columns=continuous_results_columns)\n",
    "\n",
    "    all_covar_cv_results = cross_validate(model, all_covars, outcome, cv=5, scoring=('neg_mean_absolute_error', 'neg_mean_absolute_percentage_error'))\n",
    "    all_covar_cv_predictions = cross_val_predict(model, all_covars, outcome, cv=5)\n",
    "    all_covar_binarised_cv_predictions = all_covar_cv_predictions < (4.5 * 60)\n",
    "\n",
    "    all_covar_cv_result_df = pd.DataFrame([[model_name, 'volumetric + clinical',\n",
    "                                            volumetric_covars_names + clinical_covars_names,\n",
    "                                  abs(all_covar_cv_results['test_neg_mean_absolute_error']).mean(),\n",
    "                                  metrics.roc_auc_score(binarised_outcome, all_covar_binarised_cv_predictions),\n",
    "                                  metrics.accuracy_score(binarised_outcome, all_covar_binarised_cv_predictions)\n",
    "                                  ]], columns=continuous_results_columns)\n",
    "\n",
    "    return pd.concat([volumetric_result_df, all_covar_cv_result_df])\n"
   ],
   "metadata": {
    "collapsed": false,
    "pycharm": {
     "name": "#%%\n"
    }
   }
  },
  {
   "cell_type": "code",
   "execution_count": 9,
   "outputs": [
    {
     "data": {
      "text/plain": "             method        covar selection  \\\n0  LinearRegression             volumetric   \n0  LinearRegression  volumetric + clinical   \n\n                                              covars  mean_absolute_error  \\\n0                             [CBF, T10, T8, T6, T4]           130.112336   \n0  [CBF, T10, T8, T6, T4, Age (calc.), Sex, Refer...           138.170033   \n\n   binarised_auc  binarised_accuracy  \n0       0.494337            0.861538  \n0       0.491757            0.802564  ",
      "text/html": "<div>\n<style scoped>\n    .dataframe tbody tr th:only-of-type {\n        vertical-align: middle;\n    }\n\n    .dataframe tbody tr th {\n        vertical-align: top;\n    }\n\n    .dataframe thead th {\n        text-align: right;\n    }\n</style>\n<table border=\"1\" class=\"dataframe\">\n  <thead>\n    <tr style=\"text-align: right;\">\n      <th></th>\n      <th>method</th>\n      <th>covar selection</th>\n      <th>covars</th>\n      <th>mean_absolute_error</th>\n      <th>binarised_auc</th>\n      <th>binarised_accuracy</th>\n    </tr>\n  </thead>\n  <tbody>\n    <tr>\n      <th>0</th>\n      <td>LinearRegression</td>\n      <td>volumetric</td>\n      <td>[CBF, T10, T8, T6, T4]</td>\n      <td>130.112336</td>\n      <td>0.494337</td>\n      <td>0.861538</td>\n    </tr>\n    <tr>\n      <th>0</th>\n      <td>LinearRegression</td>\n      <td>volumetric + clinical</td>\n      <td>[CBF, T10, T8, T6, T4, Age (calc.), Sex, Refer...</td>\n      <td>138.170033</td>\n      <td>0.491757</td>\n      <td>0.802564</td>\n    </tr>\n  </tbody>\n</table>\n</div>"
     },
     "execution_count": 9,
     "metadata": {},
     "output_type": "execute_result"
    }
   ],
   "source": [
    "from sklearn.feature_selection import RFECV\n",
    "\n",
    "linreg = LinearRegression()\n",
    "lin_results_df = evaluate_continuous_model(linreg, LinearRegression().__class__.__name__)\n",
    "continuous_results_df = continuous_results_df.append(lin_results_df)\n",
    "lin_results_df\n"
   ],
   "metadata": {
    "collapsed": false,
    "pycharm": {
     "name": "#%%\n"
    }
   }
  },
  {
   "cell_type": "code",
   "execution_count": 10,
   "outputs": [
    {
     "name": "stderr",
     "output_type": "stream",
     "text": [
      "/Users/jk1/opt/anaconda3/envs/scope/lib/python3.8/site-packages/sklearn/neural_network/_multilayer_perceptron.py:614: ConvergenceWarning: Stochastic Optimizer: Maximum iterations (1000) reached and the optimization hasn't converged yet.\n",
      "  warnings.warn(\n",
      "/Users/jk1/opt/anaconda3/envs/scope/lib/python3.8/site-packages/sklearn/neural_network/_multilayer_perceptron.py:614: ConvergenceWarning: Stochastic Optimizer: Maximum iterations (1000) reached and the optimization hasn't converged yet.\n",
      "  warnings.warn(\n",
      "/Users/jk1/opt/anaconda3/envs/scope/lib/python3.8/site-packages/sklearn/neural_network/_multilayer_perceptron.py:614: ConvergenceWarning: Stochastic Optimizer: Maximum iterations (1000) reached and the optimization hasn't converged yet.\n",
      "  warnings.warn(\n",
      "/Users/jk1/opt/anaconda3/envs/scope/lib/python3.8/site-packages/sklearn/neural_network/_multilayer_perceptron.py:614: ConvergenceWarning: Stochastic Optimizer: Maximum iterations (1000) reached and the optimization hasn't converged yet.\n",
      "  warnings.warn(\n",
      "/Users/jk1/opt/anaconda3/envs/scope/lib/python3.8/site-packages/sklearn/neural_network/_multilayer_perceptron.py:614: ConvergenceWarning: Stochastic Optimizer: Maximum iterations (1000) reached and the optimization hasn't converged yet.\n",
      "  warnings.warn(\n",
      "/Users/jk1/opt/anaconda3/envs/scope/lib/python3.8/site-packages/sklearn/neural_network/_multilayer_perceptron.py:614: ConvergenceWarning: Stochastic Optimizer: Maximum iterations (1000) reached and the optimization hasn't converged yet.\n",
      "  warnings.warn(\n",
      "/Users/jk1/opt/anaconda3/envs/scope/lib/python3.8/site-packages/sklearn/neural_network/_multilayer_perceptron.py:614: ConvergenceWarning: Stochastic Optimizer: Maximum iterations (1000) reached and the optimization hasn't converged yet.\n",
      "  warnings.warn(\n",
      "/Users/jk1/opt/anaconda3/envs/scope/lib/python3.8/site-packages/sklearn/neural_network/_multilayer_perceptron.py:614: ConvergenceWarning: Stochastic Optimizer: Maximum iterations (1000) reached and the optimization hasn't converged yet.\n",
      "  warnings.warn(\n",
      "/Users/jk1/opt/anaconda3/envs/scope/lib/python3.8/site-packages/sklearn/neural_network/_multilayer_perceptron.py:614: ConvergenceWarning: Stochastic Optimizer: Maximum iterations (1000) reached and the optimization hasn't converged yet.\n",
      "  warnings.warn(\n",
      "/Users/jk1/opt/anaconda3/envs/scope/lib/python3.8/site-packages/sklearn/neural_network/_multilayer_perceptron.py:614: ConvergenceWarning: Stochastic Optimizer: Maximum iterations (1000) reached and the optimization hasn't converged yet.\n",
      "  warnings.warn(\n",
      "/Users/jk1/opt/anaconda3/envs/scope/lib/python3.8/site-packages/sklearn/neural_network/_multilayer_perceptron.py:614: ConvergenceWarning: Stochastic Optimizer: Maximum iterations (1000) reached and the optimization hasn't converged yet.\n",
      "  warnings.warn(\n",
      "/Users/jk1/opt/anaconda3/envs/scope/lib/python3.8/site-packages/sklearn/neural_network/_multilayer_perceptron.py:614: ConvergenceWarning: Stochastic Optimizer: Maximum iterations (1000) reached and the optimization hasn't converged yet.\n",
      "  warnings.warn(\n",
      "/Users/jk1/opt/anaconda3/envs/scope/lib/python3.8/site-packages/sklearn/neural_network/_multilayer_perceptron.py:614: ConvergenceWarning: Stochastic Optimizer: Maximum iterations (1000) reached and the optimization hasn't converged yet.\n",
      "  warnings.warn(\n",
      "/Users/jk1/opt/anaconda3/envs/scope/lib/python3.8/site-packages/sklearn/neural_network/_multilayer_perceptron.py:614: ConvergenceWarning: Stochastic Optimizer: Maximum iterations (1000) reached and the optimization hasn't converged yet.\n",
      "  warnings.warn(\n",
      "/Users/jk1/opt/anaconda3/envs/scope/lib/python3.8/site-packages/sklearn/neural_network/_multilayer_perceptron.py:614: ConvergenceWarning: Stochastic Optimizer: Maximum iterations (1000) reached and the optimization hasn't converged yet.\n",
      "  warnings.warn(\n",
      "/Users/jk1/opt/anaconda3/envs/scope/lib/python3.8/site-packages/sklearn/neural_network/_multilayer_perceptron.py:614: ConvergenceWarning: Stochastic Optimizer: Maximum iterations (1000) reached and the optimization hasn't converged yet.\n",
      "  warnings.warn(\n",
      "/Users/jk1/opt/anaconda3/envs/scope/lib/python3.8/site-packages/sklearn/neural_network/_multilayer_perceptron.py:614: ConvergenceWarning: Stochastic Optimizer: Maximum iterations (1000) reached and the optimization hasn't converged yet.\n",
      "  warnings.warn(\n",
      "/Users/jk1/opt/anaconda3/envs/scope/lib/python3.8/site-packages/sklearn/neural_network/_multilayer_perceptron.py:614: ConvergenceWarning: Stochastic Optimizer: Maximum iterations (1000) reached and the optimization hasn't converged yet.\n",
      "  warnings.warn(\n",
      "/Users/jk1/opt/anaconda3/envs/scope/lib/python3.8/site-packages/sklearn/neural_network/_multilayer_perceptron.py:614: ConvergenceWarning: Stochastic Optimizer: Maximum iterations (1000) reached and the optimization hasn't converged yet.\n",
      "  warnings.warn(\n",
      "/Users/jk1/opt/anaconda3/envs/scope/lib/python3.8/site-packages/sklearn/neural_network/_multilayer_perceptron.py:614: ConvergenceWarning: Stochastic Optimizer: Maximum iterations (1000) reached and the optimization hasn't converged yet.\n",
      "  warnings.warn(\n"
     ]
    },
    {
     "data": {
      "text/plain": "         method        covar selection  \\\n0  MLPRegressor             volumetric   \n0  MLPRegressor  volumetric + clinical   \n\n                                              covars  mean_absolute_error  \\\n0                             [CBF, T10, T8, T6, T4]           134.865857   \n0  [CBF, T10, T8, T6, T4, Age (calc.), Sex, Refer...           148.761841   \n\n   binarised_auc  binarised_accuracy  \n0       0.480129            0.800000  \n0       0.510790            0.782051  ",
      "text/html": "<div>\n<style scoped>\n    .dataframe tbody tr th:only-of-type {\n        vertical-align: middle;\n    }\n\n    .dataframe tbody tr th {\n        vertical-align: top;\n    }\n\n    .dataframe thead th {\n        text-align: right;\n    }\n</style>\n<table border=\"1\" class=\"dataframe\">\n  <thead>\n    <tr style=\"text-align: right;\">\n      <th></th>\n      <th>method</th>\n      <th>covar selection</th>\n      <th>covars</th>\n      <th>mean_absolute_error</th>\n      <th>binarised_auc</th>\n      <th>binarised_accuracy</th>\n    </tr>\n  </thead>\n  <tbody>\n    <tr>\n      <th>0</th>\n      <td>MLPRegressor</td>\n      <td>volumetric</td>\n      <td>[CBF, T10, T8, T6, T4]</td>\n      <td>134.865857</td>\n      <td>0.480129</td>\n      <td>0.800000</td>\n    </tr>\n    <tr>\n      <th>0</th>\n      <td>MLPRegressor</td>\n      <td>volumetric + clinical</td>\n      <td>[CBF, T10, T8, T6, T4, Age (calc.), Sex, Refer...</td>\n      <td>148.761841</td>\n      <td>0.510790</td>\n      <td>0.782051</td>\n    </tr>\n  </tbody>\n</table>\n</div>"
     },
     "execution_count": 10,
     "metadata": {},
     "output_type": "execute_result"
    }
   ],
   "source": [
    "from sklearn.neural_network import MLPRegressor\n",
    "\n",
    "mlp = MLPRegressor(random_state=1, max_iter=1000)\n",
    "\n",
    "mlp_results_df = evaluate_continuous_model(mlp)\n",
    "\n",
    "continuous_results_df = continuous_results_df.append(mlp_results_df)\n",
    "\n",
    "mlp_results_df"
   ],
   "metadata": {
    "collapsed": false,
    "pycharm": {
     "name": "#%%\n"
    }
   }
  },
  {
   "cell_type": "code",
   "execution_count": 11,
   "outputs": [
    {
     "data": {
      "text/plain": "  method        covar selection  \\\n0  Lasso             volumetric   \n0  Lasso  volumetric + clinical   \n\n                                              covars  mean_absolute_error  \\\n0                             [CBF, T10, T8, T6, T4]           130.097795   \n0  [CBF, T10, T8, T6, T4, Age (calc.), Sex, Refer...           136.856867   \n\n   binarised_auc  binarised_accuracy  \n0       0.494337            0.861538  \n0       0.488774            0.815385  ",
      "text/html": "<div>\n<style scoped>\n    .dataframe tbody tr th:only-of-type {\n        vertical-align: middle;\n    }\n\n    .dataframe tbody tr th {\n        vertical-align: top;\n    }\n\n    .dataframe thead th {\n        text-align: right;\n    }\n</style>\n<table border=\"1\" class=\"dataframe\">\n  <thead>\n    <tr style=\"text-align: right;\">\n      <th></th>\n      <th>method</th>\n      <th>covar selection</th>\n      <th>covars</th>\n      <th>mean_absolute_error</th>\n      <th>binarised_auc</th>\n      <th>binarised_accuracy</th>\n    </tr>\n  </thead>\n  <tbody>\n    <tr>\n      <th>0</th>\n      <td>Lasso</td>\n      <td>volumetric</td>\n      <td>[CBF, T10, T8, T6, T4]</td>\n      <td>130.097795</td>\n      <td>0.494337</td>\n      <td>0.861538</td>\n    </tr>\n    <tr>\n      <th>0</th>\n      <td>Lasso</td>\n      <td>volumetric + clinical</td>\n      <td>[CBF, T10, T8, T6, T4, Age (calc.), Sex, Refer...</td>\n      <td>136.856867</td>\n      <td>0.488774</td>\n      <td>0.815385</td>\n    </tr>\n  </tbody>\n</table>\n</div>"
     },
     "execution_count": 11,
     "metadata": {},
     "output_type": "execute_result"
    }
   ],
   "source": [
    "from sklearn import linear_model\n",
    "\n",
    "clf = linear_model.Lasso()\n",
    "\n",
    "clf_results_df = evaluate_continuous_model(clf)\n",
    "continuous_results_df = continuous_results_df.append(clf_results_df)\n",
    "\n",
    "clf_results_df"
   ],
   "metadata": {
    "collapsed": false,
    "pycharm": {
     "name": "#%%\n"
    }
   }
  },
  {
   "cell_type": "code",
   "execution_count": 12,
   "outputs": [
    {
     "data": {
      "text/plain": "  method        covar selection  \\\n0    SVR             volumetric   \n0    SVR  volumetric + clinical   \n\n                                              covars  mean_absolute_error  \\\n0                             [CBF, T10, T8, T6, T4]           102.175419   \n0  [CBF, T10, T8, T6, T4, Age (calc.), Sex, Refer...           102.564593   \n\n   binarised_auc  binarised_accuracy  \n0            0.5            0.889744  \n0            0.5            0.889744  ",
      "text/html": "<div>\n<style scoped>\n    .dataframe tbody tr th:only-of-type {\n        vertical-align: middle;\n    }\n\n    .dataframe tbody tr th {\n        vertical-align: top;\n    }\n\n    .dataframe thead th {\n        text-align: right;\n    }\n</style>\n<table border=\"1\" class=\"dataframe\">\n  <thead>\n    <tr style=\"text-align: right;\">\n      <th></th>\n      <th>method</th>\n      <th>covar selection</th>\n      <th>covars</th>\n      <th>mean_absolute_error</th>\n      <th>binarised_auc</th>\n      <th>binarised_accuracy</th>\n    </tr>\n  </thead>\n  <tbody>\n    <tr>\n      <th>0</th>\n      <td>SVR</td>\n      <td>volumetric</td>\n      <td>[CBF, T10, T8, T6, T4]</td>\n      <td>102.175419</td>\n      <td>0.5</td>\n      <td>0.889744</td>\n    </tr>\n    <tr>\n      <th>0</th>\n      <td>SVR</td>\n      <td>volumetric + clinical</td>\n      <td>[CBF, T10, T8, T6, T4, Age (calc.), Sex, Refer...</td>\n      <td>102.564593</td>\n      <td>0.5</td>\n      <td>0.889744</td>\n    </tr>\n  </tbody>\n</table>\n</div>"
     },
     "execution_count": 12,
     "metadata": {},
     "output_type": "execute_result"
    }
   ],
   "source": [
    "\n",
    "svr = make_pipeline(preprocessing.StandardScaler(), svm.SVR())\n",
    "\n",
    "svr_results_df = evaluate_continuous_model(svr, svm.SVR().__class__.__name__)\n",
    "continuous_results_df = continuous_results_df.append(svr_results_df)\n",
    "\n",
    "svr_results_df"
   ],
   "metadata": {
    "collapsed": false,
    "pycharm": {
     "name": "#%%\n"
    }
   }
  },
  {
   "cell_type": "code",
   "execution_count": 13,
   "outputs": [
    {
     "data": {
      "text/plain": "                  method        covar selection  \\\n0  DecisionTreeRegressor             volumetric   \n0  DecisionTreeRegressor  volumetric + clinical   \n\n                                              covars  mean_absolute_error  \\\n0                             [CBF, T10, T8, T6, T4]           183.542906   \n0  [CBF, T10, T8, T6, T4, Age (calc.), Sex, Refer...           193.628205   \n\n   binarised_auc  binarised_accuracy  \n0       0.494739            0.789744  \n0       0.538369            0.794872  ",
      "text/html": "<div>\n<style scoped>\n    .dataframe tbody tr th:only-of-type {\n        vertical-align: middle;\n    }\n\n    .dataframe tbody tr th {\n        vertical-align: top;\n    }\n\n    .dataframe thead th {\n        text-align: right;\n    }\n</style>\n<table border=\"1\" class=\"dataframe\">\n  <thead>\n    <tr style=\"text-align: right;\">\n      <th></th>\n      <th>method</th>\n      <th>covar selection</th>\n      <th>covars</th>\n      <th>mean_absolute_error</th>\n      <th>binarised_auc</th>\n      <th>binarised_accuracy</th>\n    </tr>\n  </thead>\n  <tbody>\n    <tr>\n      <th>0</th>\n      <td>DecisionTreeRegressor</td>\n      <td>volumetric</td>\n      <td>[CBF, T10, T8, T6, T4]</td>\n      <td>183.542906</td>\n      <td>0.494739</td>\n      <td>0.789744</td>\n    </tr>\n    <tr>\n      <th>0</th>\n      <td>DecisionTreeRegressor</td>\n      <td>volumetric + clinical</td>\n      <td>[CBF, T10, T8, T6, T4, Age (calc.), Sex, Refer...</td>\n      <td>193.628205</td>\n      <td>0.538369</td>\n      <td>0.794872</td>\n    </tr>\n  </tbody>\n</table>\n</div>"
     },
     "execution_count": 13,
     "metadata": {},
     "output_type": "execute_result"
    }
   ],
   "source": [
    "from sklearn.tree import DecisionTreeRegressor\n",
    "\n",
    "DTregressor = DecisionTreeRegressor()\n",
    "\n",
    "dtr_results = evaluate_continuous_model(DTregressor)\n",
    "continuous_results_df = continuous_results_df.append(dtr_results)\n",
    "\n",
    "dtr_results"
   ],
   "metadata": {
    "collapsed": false,
    "pycharm": {
     "name": "#%%\n"
    }
   }
  },
  {
   "cell_type": "markdown",
   "source": [
    "## Framing as binary problem"
   ],
   "metadata": {
    "collapsed": false,
    "pycharm": {
     "name": "#%% md\n"
    }
   }
  },
  {
   "cell_type": "code",
   "execution_count": 14,
   "outputs": [],
   "source": [
    "binary_results_columns = ['method', 'covar selection', 'covars', 'auc', 'accuracy', 'f1', 'precision', 'recall']\n",
    "binary_results_df = pd.DataFrame(columns=binary_results_columns)"
   ],
   "metadata": {
    "collapsed": false,
    "pycharm": {
     "name": "#%%\n"
    }
   }
  },
  {
   "cell_type": "code",
   "execution_count": 15,
   "outputs": [],
   "source": [
    "\n",
    "def evaluate_binary_model(model, model_name=None):\n",
    "    if model_name is None:\n",
    "        model_name = model.__class__.__name__\n",
    "    scoring = ('roc_auc', 'accuracy', 'f1', 'precision', 'recall')\n",
    "    volumetric_cv_results = cross_validate(model, volumetric_covars, binarised_outcome, cv=5, scoring=scoring)\n",
    "\n",
    "    volumetric_result_df = pd.DataFrame([[model_name, 'volumetric', volumetric_covars_names,\n",
    "                                  np.median(volumetric_cv_results['test_roc_auc']),\n",
    "                                  np.median(volumetric_cv_results['test_accuracy']),\n",
    "                                  np.median(volumetric_cv_results['test_f1']),\n",
    "                                  np.median(volumetric_cv_results['test_precision']),\n",
    "                                  np.median(volumetric_cv_results['test_recall']),\n",
    "                                  ]], columns=binary_results_columns)\n",
    "\n",
    "    all_covar_cv_results = cross_validate(model, all_covars, binarised_outcome, cv=5, scoring=scoring)\n",
    "\n",
    "    all_covar_cv_result_df = pd.DataFrame([[model_name, 'volumetric + clinical',\n",
    "                                            volumetric_covars_names + clinical_covars_names,\n",
    "                                  np.median(all_covar_cv_results['test_roc_auc']),\n",
    "                                  np.median(all_covar_cv_results['test_accuracy']),\n",
    "                                  np.median(all_covar_cv_results['test_f1']),\n",
    "                                  np.median(all_covar_cv_results['test_precision']),\n",
    "                                  np.median(all_covar_cv_results['test_recall']),\n",
    "                                  ]], columns=binary_results_columns)\n",
    "\n",
    "    return pd.concat([volumetric_result_df, all_covar_cv_result_df])"
   ],
   "metadata": {
    "collapsed": false,
    "pycharm": {
     "name": "#%%\n"
    }
   }
  },
  {
   "cell_type": "code",
   "execution_count": 16,
   "outputs": [
    {
     "data": {
      "text/plain": "['explained_variance',\n 'r2',\n 'max_error',\n 'neg_median_absolute_error',\n 'neg_mean_absolute_error',\n 'neg_mean_absolute_percentage_error',\n 'neg_mean_squared_error',\n 'neg_mean_squared_log_error',\n 'neg_root_mean_squared_error',\n 'neg_mean_poisson_deviance',\n 'neg_mean_gamma_deviance',\n 'accuracy',\n 'top_k_accuracy',\n 'roc_auc',\n 'roc_auc_ovr',\n 'roc_auc_ovo',\n 'roc_auc_ovr_weighted',\n 'roc_auc_ovo_weighted',\n 'balanced_accuracy',\n 'average_precision',\n 'neg_log_loss',\n 'neg_brier_score',\n 'adjusted_rand_score',\n 'rand_score',\n 'homogeneity_score',\n 'completeness_score',\n 'v_measure_score',\n 'mutual_info_score',\n 'adjusted_mutual_info_score',\n 'normalized_mutual_info_score',\n 'fowlkes_mallows_score',\n 'precision',\n 'precision_macro',\n 'precision_micro',\n 'precision_samples',\n 'precision_weighted',\n 'recall',\n 'recall_macro',\n 'recall_micro',\n 'recall_samples',\n 'recall_weighted',\n 'f1',\n 'f1_macro',\n 'f1_micro',\n 'f1_samples',\n 'f1_weighted',\n 'jaccard',\n 'jaccard_macro',\n 'jaccard_micro',\n 'jaccard_samples',\n 'jaccard_weighted']"
     },
     "execution_count": 16,
     "metadata": {},
     "output_type": "execute_result"
    }
   ],
   "source": [
    "list(metrics.SCORERS.keys())"
   ],
   "metadata": {
    "collapsed": false,
    "pycharm": {
     "name": "#%%\n"
    }
   }
  },
  {
   "cell_type": "code",
   "execution_count": 17,
   "outputs": [
    {
     "name": "stderr",
     "output_type": "stream",
     "text": [
      "/Users/jk1/opt/anaconda3/envs/scope/lib/python3.8/site-packages/sklearn/linear_model/_logistic.py:763: ConvergenceWarning: lbfgs failed to converge (status=1):\n",
      "STOP: TOTAL NO. of ITERATIONS REACHED LIMIT.\n",
      "\n",
      "Increase the number of iterations (max_iter) or scale the data as shown in:\n",
      "    https://scikit-learn.org/stable/modules/preprocessing.html\n",
      "Please also refer to the documentation for alternative solver options:\n",
      "    https://scikit-learn.org/stable/modules/linear_model.html#logistic-regression\n",
      "  n_iter_i = _check_optimize_result(\n",
      "/Users/jk1/opt/anaconda3/envs/scope/lib/python3.8/site-packages/sklearn/linear_model/_logistic.py:763: ConvergenceWarning: lbfgs failed to converge (status=1):\n",
      "STOP: TOTAL NO. of ITERATIONS REACHED LIMIT.\n",
      "\n",
      "Increase the number of iterations (max_iter) or scale the data as shown in:\n",
      "    https://scikit-learn.org/stable/modules/preprocessing.html\n",
      "Please also refer to the documentation for alternative solver options:\n",
      "    https://scikit-learn.org/stable/modules/linear_model.html#logistic-regression\n",
      "  n_iter_i = _check_optimize_result(\n",
      "/Users/jk1/opt/anaconda3/envs/scope/lib/python3.8/site-packages/sklearn/linear_model/_logistic.py:763: ConvergenceWarning: lbfgs failed to converge (status=1):\n",
      "STOP: TOTAL NO. of ITERATIONS REACHED LIMIT.\n",
      "\n",
      "Increase the number of iterations (max_iter) or scale the data as shown in:\n",
      "    https://scikit-learn.org/stable/modules/preprocessing.html\n",
      "Please also refer to the documentation for alternative solver options:\n",
      "    https://scikit-learn.org/stable/modules/linear_model.html#logistic-regression\n",
      "  n_iter_i = _check_optimize_result(\n",
      "/Users/jk1/opt/anaconda3/envs/scope/lib/python3.8/site-packages/sklearn/linear_model/_logistic.py:763: ConvergenceWarning: lbfgs failed to converge (status=1):\n",
      "STOP: TOTAL NO. of ITERATIONS REACHED LIMIT.\n",
      "\n",
      "Increase the number of iterations (max_iter) or scale the data as shown in:\n",
      "    https://scikit-learn.org/stable/modules/preprocessing.html\n",
      "Please also refer to the documentation for alternative solver options:\n",
      "    https://scikit-learn.org/stable/modules/linear_model.html#logistic-regression\n",
      "  n_iter_i = _check_optimize_result(\n",
      "/Users/jk1/opt/anaconda3/envs/scope/lib/python3.8/site-packages/sklearn/linear_model/_logistic.py:763: ConvergenceWarning: lbfgs failed to converge (status=1):\n",
      "STOP: TOTAL NO. of ITERATIONS REACHED LIMIT.\n",
      "\n",
      "Increase the number of iterations (max_iter) or scale the data as shown in:\n",
      "    https://scikit-learn.org/stable/modules/preprocessing.html\n",
      "Please also refer to the documentation for alternative solver options:\n",
      "    https://scikit-learn.org/stable/modules/linear_model.html#logistic-regression\n",
      "  n_iter_i = _check_optimize_result(\n"
     ]
    },
    {
     "data": {
      "text/plain": "               method        covar selection  \\\n0  LogisticRegression             volumetric   \n0  LogisticRegression  volumetric + clinical   \n\n                                              covars       auc  accuracy  \\\n0                             [CBF, T10, T8, T6, T4]  0.539286  0.884615   \n0  [CBF, T10, T8, T6, T4, Age (calc.), Sex, Refer...  0.464286  0.884615   \n\n         f1  precision  recall  \n0  0.938776   0.884615     1.0  \n0  0.938776   0.884615     1.0  ",
      "text/html": "<div>\n<style scoped>\n    .dataframe tbody tr th:only-of-type {\n        vertical-align: middle;\n    }\n\n    .dataframe tbody tr th {\n        vertical-align: top;\n    }\n\n    .dataframe thead th {\n        text-align: right;\n    }\n</style>\n<table border=\"1\" class=\"dataframe\">\n  <thead>\n    <tr style=\"text-align: right;\">\n      <th></th>\n      <th>method</th>\n      <th>covar selection</th>\n      <th>covars</th>\n      <th>auc</th>\n      <th>accuracy</th>\n      <th>f1</th>\n      <th>precision</th>\n      <th>recall</th>\n    </tr>\n  </thead>\n  <tbody>\n    <tr>\n      <th>0</th>\n      <td>LogisticRegression</td>\n      <td>volumetric</td>\n      <td>[CBF, T10, T8, T6, T4]</td>\n      <td>0.539286</td>\n      <td>0.884615</td>\n      <td>0.938776</td>\n      <td>0.884615</td>\n      <td>1.0</td>\n    </tr>\n    <tr>\n      <th>0</th>\n      <td>LogisticRegression</td>\n      <td>volumetric + clinical</td>\n      <td>[CBF, T10, T8, T6, T4, Age (calc.), Sex, Refer...</td>\n      <td>0.464286</td>\n      <td>0.884615</td>\n      <td>0.938776</td>\n      <td>0.884615</td>\n      <td>1.0</td>\n    </tr>\n  </tbody>\n</table>\n</div>"
     },
     "execution_count": 17,
     "metadata": {},
     "output_type": "execute_result"
    }
   ],
   "source": [
    "logreg = LogisticRegression()\n",
    "\n",
    "logreg_results_df = evaluate_binary_model(logreg)\n",
    "binary_results_df = binary_results_df.append(logreg_results_df)\n",
    "logreg_results_df\n"
   ],
   "metadata": {
    "collapsed": false,
    "pycharm": {
     "name": "#%%\n"
    }
   }
  },
  {
   "cell_type": "code",
   "execution_count": 18,
   "outputs": [
    {
     "data": {
      "text/plain": "                   method        covar selection  \\\n0  RandomForestClassifier             volumetric   \n0  RandomForestClassifier  volumetric + clinical   \n\n                                              covars       auc  accuracy  \\\n0                             [CBF, T10, T8, T6, T4]  0.557971  0.871795   \n0  [CBF, T10, T8, T6, T4, Age (calc.), Sex, Refer...  0.626409  0.884615   \n\n         f1  precision    recall  \n0  0.931507   0.883117  0.985507  \n0  0.938776   0.884615  1.000000  ",
      "text/html": "<div>\n<style scoped>\n    .dataframe tbody tr th:only-of-type {\n        vertical-align: middle;\n    }\n\n    .dataframe tbody tr th {\n        vertical-align: top;\n    }\n\n    .dataframe thead th {\n        text-align: right;\n    }\n</style>\n<table border=\"1\" class=\"dataframe\">\n  <thead>\n    <tr style=\"text-align: right;\">\n      <th></th>\n      <th>method</th>\n      <th>covar selection</th>\n      <th>covars</th>\n      <th>auc</th>\n      <th>accuracy</th>\n      <th>f1</th>\n      <th>precision</th>\n      <th>recall</th>\n    </tr>\n  </thead>\n  <tbody>\n    <tr>\n      <th>0</th>\n      <td>RandomForestClassifier</td>\n      <td>volumetric</td>\n      <td>[CBF, T10, T8, T6, T4]</td>\n      <td>0.557971</td>\n      <td>0.871795</td>\n      <td>0.931507</td>\n      <td>0.883117</td>\n      <td>0.985507</td>\n    </tr>\n    <tr>\n      <th>0</th>\n      <td>RandomForestClassifier</td>\n      <td>volumetric + clinical</td>\n      <td>[CBF, T10, T8, T6, T4, Age (calc.), Sex, Refer...</td>\n      <td>0.626409</td>\n      <td>0.884615</td>\n      <td>0.938776</td>\n      <td>0.884615</td>\n      <td>1.000000</td>\n    </tr>\n  </tbody>\n</table>\n</div>"
     },
     "execution_count": 18,
     "metadata": {},
     "output_type": "execute_result"
    }
   ],
   "source": [
    "from sklearn.ensemble import RandomForestClassifier\n",
    "\n",
    "rfm = RandomForestClassifier()\n",
    "rfm_results_df = evaluate_binary_model(rfm)\n",
    "binary_results_df = binary_results_df.append(rfm_results_df)\n",
    "rfm_results_df"
   ],
   "metadata": {
    "collapsed": false,
    "pycharm": {
     "name": "#%%\n"
    }
   }
  },
  {
   "cell_type": "code",
   "execution_count": 19,
   "outputs": [
    {
     "data": {
      "text/plain": "  method        covar selection  \\\n0    SVC             volumetric   \n0    SVC  volumetric + clinical   \n\n                                              covars       auc  accuracy  \\\n0                             [CBF, T10, T8, T6, T4]  0.414654  0.884615   \n0  [CBF, T10, T8, T6, T4, Age (calc.), Sex, Refer...  0.447665  0.884615   \n\n         f1  precision  recall  \n0  0.938776   0.884615     1.0  \n0  0.938776   0.884615     1.0  ",
      "text/html": "<div>\n<style scoped>\n    .dataframe tbody tr th:only-of-type {\n        vertical-align: middle;\n    }\n\n    .dataframe tbody tr th {\n        vertical-align: top;\n    }\n\n    .dataframe thead th {\n        text-align: right;\n    }\n</style>\n<table border=\"1\" class=\"dataframe\">\n  <thead>\n    <tr style=\"text-align: right;\">\n      <th></th>\n      <th>method</th>\n      <th>covar selection</th>\n      <th>covars</th>\n      <th>auc</th>\n      <th>accuracy</th>\n      <th>f1</th>\n      <th>precision</th>\n      <th>recall</th>\n    </tr>\n  </thead>\n  <tbody>\n    <tr>\n      <th>0</th>\n      <td>SVC</td>\n      <td>volumetric</td>\n      <td>[CBF, T10, T8, T6, T4]</td>\n      <td>0.414654</td>\n      <td>0.884615</td>\n      <td>0.938776</td>\n      <td>0.884615</td>\n      <td>1.0</td>\n    </tr>\n    <tr>\n      <th>0</th>\n      <td>SVC</td>\n      <td>volumetric + clinical</td>\n      <td>[CBF, T10, T8, T6, T4, Age (calc.), Sex, Refer...</td>\n      <td>0.447665</td>\n      <td>0.884615</td>\n      <td>0.938776</td>\n      <td>0.884615</td>\n      <td>1.0</td>\n    </tr>\n  </tbody>\n</table>\n</div>"
     },
     "execution_count": 19,
     "metadata": {},
     "output_type": "execute_result"
    }
   ],
   "source": [
    "clf_svm = svm.SVC()\n",
    "clf_svm_results_df = evaluate_binary_model(clf_svm)\n",
    "binary_results_df = binary_results_df.append(clf_svm_results_df)\n",
    "clf_svm_results_df"
   ],
   "metadata": {
    "collapsed": false,
    "pycharm": {
     "name": "#%%\n"
    }
   }
  },
  {
   "cell_type": "code",
   "execution_count": 29,
   "outputs": [
    {
     "data": {
      "text/plain": "          method        covar selection  \\\n0  MLPClassifier             volumetric   \n0  MLPClassifier  volumetric + clinical   \n\n                                              covars       auc  accuracy  \\\n0                             [CBF, T10, T8, T6, T4]  0.453571  0.871795   \n0  [CBF, T10, T8, T6, T4, Age (calc.), Sex, Refer...  0.497585  0.871795   \n\n         f1  precision    recall  \n0  0.930556   0.893333  0.971014  \n0  0.931507   0.890411  0.971429  ",
      "text/html": "<div>\n<style scoped>\n    .dataframe tbody tr th:only-of-type {\n        vertical-align: middle;\n    }\n\n    .dataframe tbody tr th {\n        vertical-align: top;\n    }\n\n    .dataframe thead th {\n        text-align: right;\n    }\n</style>\n<table border=\"1\" class=\"dataframe\">\n  <thead>\n    <tr style=\"text-align: right;\">\n      <th></th>\n      <th>method</th>\n      <th>covar selection</th>\n      <th>covars</th>\n      <th>auc</th>\n      <th>accuracy</th>\n      <th>f1</th>\n      <th>precision</th>\n      <th>recall</th>\n    </tr>\n  </thead>\n  <tbody>\n    <tr>\n      <th>0</th>\n      <td>MLPClassifier</td>\n      <td>volumetric</td>\n      <td>[CBF, T10, T8, T6, T4]</td>\n      <td>0.453571</td>\n      <td>0.871795</td>\n      <td>0.930556</td>\n      <td>0.893333</td>\n      <td>0.971014</td>\n    </tr>\n    <tr>\n      <th>0</th>\n      <td>MLPClassifier</td>\n      <td>volumetric + clinical</td>\n      <td>[CBF, T10, T8, T6, T4, Age (calc.), Sex, Refer...</td>\n      <td>0.497585</td>\n      <td>0.871795</td>\n      <td>0.931507</td>\n      <td>0.890411</td>\n      <td>0.971429</td>\n    </tr>\n  </tbody>\n</table>\n</div>"
     },
     "execution_count": 29,
     "metadata": {},
     "output_type": "execute_result"
    }
   ],
   "source": [
    "from sklearn.model_selection import RandomizedSearchCV\n",
    "from sklearn.neural_network import MLPClassifier\n",
    "\n",
    "tuned_parameters = {\n",
    "        'activation': (['relu','logistic']),\n",
    "        'hidden_layer_sizes':([[80,160,80],[78,156,78],[88,176,88],[80,160]]),\n",
    "        'alpha':     ([0.01, 0.001, 0.0001]),\n",
    "        'batch_size':         [32,64],\n",
    "        'learning_rate_init':    [0.01, 0.001],\n",
    "        'solver': [\"adam\"]}\n",
    "\n",
    "mlp = MLPClassifier(max_iter=5000)\n",
    "mlp_clf = RandomizedSearchCV(mlp, tuned_parameters)\n",
    "\n",
    "mlp_svm_results_df = evaluate_binary_model(mlp_clf)\n",
    "binary_results_df = binary_results_df.append(mlp_svm_results_df)\n",
    "mlp_svm_results_df"
   ],
   "metadata": {
    "collapsed": false,
    "pycharm": {
     "name": "#%%\n"
    }
   }
  },
  {
   "cell_type": "code",
   "execution_count": 27,
   "outputs": [
    {
     "data": {
      "text/plain": "        method covar selection covars  auc  accuracy        f1  precision  \\\n0  always_true            none     []  0.5  0.889744  0.941655   0.889744   \n\n   recall  \n0     1.0  ",
      "text/html": "<div>\n<style scoped>\n    .dataframe tbody tr th:only-of-type {\n        vertical-align: middle;\n    }\n\n    .dataframe tbody tr th {\n        vertical-align: top;\n    }\n\n    .dataframe thead th {\n        text-align: right;\n    }\n</style>\n<table border=\"1\" class=\"dataframe\">\n  <thead>\n    <tr style=\"text-align: right;\">\n      <th></th>\n      <th>method</th>\n      <th>covar selection</th>\n      <th>covars</th>\n      <th>auc</th>\n      <th>accuracy</th>\n      <th>f1</th>\n      <th>precision</th>\n      <th>recall</th>\n    </tr>\n  </thead>\n  <tbody>\n    <tr>\n      <th>0</th>\n      <td>always_true</td>\n      <td>none</td>\n      <td>[]</td>\n      <td>0.5</td>\n      <td>0.889744</td>\n      <td>0.941655</td>\n      <td>0.889744</td>\n      <td>1.0</td>\n    </tr>\n  </tbody>\n</table>\n</div>"
     },
     "execution_count": 27,
     "metadata": {},
     "output_type": "execute_result"
    }
   ],
   "source": [
    "always_true = np.ones(len(binarised_outcome))\n",
    "always_true_results = pd.DataFrame([['always_true', 'none', [],\n",
    "                                  metrics.roc_auc_score(binarised_outcome, always_true),\n",
    "                                  metrics.accuracy_score(binarised_outcome, always_true),\n",
    "                                  metrics.f1_score(binarised_outcome, always_true),\n",
    "                                  metrics.precision_score(binarised_outcome, always_true),\n",
    "                                  metrics.recall_score(binarised_outcome, always_true),\n",
    "                                  ]], columns=binary_results_columns)\n",
    "\n",
    "binary_results_df = binary_results_df.append(always_true_results)\n",
    "\n",
    "always_true_results"
   ],
   "metadata": {
    "collapsed": false,
    "pycharm": {
     "name": "#%%\n"
    }
   }
  },
  {
   "cell_type": "code",
   "execution_count": 28,
   "outputs": [],
   "source": [
    "import os\n",
    "output_dir = '/Users/jk1/OneDrive - unige.ch/stroke_research/scope/onset_output/volumetric_performance'\n",
    "binary_results_df.to_excel(os.path.join(output_dir, 'binary_prediction_from_volumetric_variables.xlsx'))\n",
    "continuous_results_df.to_excel(os.path.join(output_dir, 'continuous_prediction_from_volumetric_variables.xlsx'))"
   ],
   "metadata": {
    "collapsed": false,
    "pycharm": {
     "name": "#%%\n"
    }
   }
  },
  {
   "cell_type": "code",
   "execution_count": null,
   "outputs": [],
   "source": [],
   "metadata": {
    "collapsed": false,
    "pycharm": {
     "name": "#%%\n"
    }
   }
  }
 ],
 "metadata": {
  "kernelspec": {
   "display_name": "Python 3",
   "language": "python",
   "name": "python3"
  },
  "language_info": {
   "codemirror_mode": {
    "name": "ipython",
    "version": 2
   },
   "file_extension": ".py",
   "mimetype": "text/x-python",
   "name": "python",
   "nbconvert_exporter": "python",
   "pygments_lexer": "ipython2",
   "version": "2.7.6"
  }
 },
 "nbformat": 4,
 "nbformat_minor": 0
}